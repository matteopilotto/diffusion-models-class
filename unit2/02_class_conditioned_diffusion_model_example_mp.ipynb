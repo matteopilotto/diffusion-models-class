{
 "cells": [
  {
   "cell_type": "markdown",
   "id": "347b1417-a356-4361-901d-f50e896f4d62",
   "metadata": {},
   "source": [
    "## Setup"
   ]
  },
  {
   "cell_type": "code",
   "execution_count": 1,
   "id": "c085f435-adc1-4abe-9801-dca9f9ae1dab",
   "metadata": {},
   "outputs": [],
   "source": [
    "!pip install -qq diffusers matplotlib wandb transformers accelerate ftfy"
   ]
  },
  {
   "cell_type": "code",
   "execution_count": null,
   "id": "ca6b0065-e0b6-4f1d-a032-73fbbda768bd",
   "metadata": {},
   "outputs": [],
   "source": [
    "!pip install -qq -U diffusers datasets transformers accelerate ftfy"
   ]
  },
  {
   "cell_type": "code",
   "execution_count": null,
   "id": "25993f59-1676-498b-8dc2-a1c2adefcb4a",
   "metadata": {},
   "outputs": [],
   "source": [
    "!pip install onnxruntime==0.5"
   ]
  },
  {
   "cell_type": "code",
   "execution_count": null,
   "id": "10cababb-bd62-4373-b553-8b5c2af41df0",
   "metadata": {},
   "outputs": [],
   "source": [
    "import onnxruntime\n",
    "onnxruntime.__version__"
   ]
  },
  {
   "cell_type": "code",
   "execution_count": null,
   "id": "f2a7375c-14d3-4b04-b1c3-aafb7a9d2dff",
   "metadata": {},
   "outputs": [],
   "source": [
    "!pip install onnxruntime-training"
   ]
  },
  {
   "cell_type": "code",
   "execution_count": 2,
   "id": "b0e3e6a3-33cf-4c84-8d5a-60f067461912",
   "metadata": {},
   "outputs": [],
   "source": [
    "import torch\n",
    "from torch import nn\n",
    "from torch.nn import functional as F\n",
    "from torch.utils.data import DataLoader\n",
    "import torchvision\n",
    "from diffusers import DDPMScheduler, UNet2DModel, DDPMPipeline\n",
    "from matplotlib import pyplot as plt\n",
    "from tqdm.auto import tqdm\n",
    "import random\n",
    "import numpy as np\n",
    "import os\n",
    "\n",
    "device = 'cuda' if torch.cuda.is_available() else 'cpu'\n",
    "cpu_count = os.cpu_count()\n",
    "tensor2pil = torchvision.transforms.ToPILImage()\n",
    "seed = 42"
   ]
  },
  {
   "cell_type": "markdown",
   "id": "46ab287e-b913-4f98-83d6-d6ab50b48b1f",
   "metadata": {},
   "source": [
    "## MNIST"
   ]
  },
  {
   "cell_type": "markdown",
   "id": "010e6be7-3c78-4028-a5b4-56fbf81f8083",
   "metadata": {},
   "source": [
    "### Data"
   ]
  },
  {
   "cell_type": "code",
   "execution_count": null,
   "id": "08cc36c8-358f-481a-9e2a-30f0fbcd0466",
   "metadata": {},
   "outputs": [],
   "source": [
    "batch_size = 8\n",
    "\n",
    "dataset = torchvision.datasets.MNIST(root='./mnist',\n",
    "                                     train=True,\n",
    "                                     download=True,\n",
    "                                     transform=torchvision.transforms.ToTensor())\n",
    "\n",
    "train_dl = DataLoader(dataset, batch_size=batch_size, shuffle=True)"
   ]
  },
  {
   "cell_type": "code",
   "execution_count": null,
   "id": "2ce33230-f546-49db-8bdc-6041fb41feeb",
   "metadata": {},
   "outputs": [],
   "source": [
    "inputs, labels = next(iter(train_dl))\n",
    "inputs.shape, labels.shape"
   ]
  },
  {
   "cell_type": "code",
   "execution_count": null,
   "id": "b7043a83-ae7a-4b7b-a933-7a019172cf67",
   "metadata": {},
   "outputs": [],
   "source": [
    "tensor2pil = torchvision.transforms.ToPILImage()"
   ]
  },
  {
   "cell_type": "code",
   "execution_count": null,
   "id": "8a2c8d76-db4d-46a0-8ff0-d7534d7051fb",
   "metadata": {},
   "outputs": [],
   "source": [
    "display(tensor2pil(abs(torchvision.utils.make_grid(inputs) - 1)))"
   ]
  },
  {
   "cell_type": "code",
   "execution_count": null,
   "id": "3bb68b24-457b-47aa-a719-c2f63e805d25",
   "metadata": {},
   "outputs": [],
   "source": [
    "plt.imshow(torchvision.utils.make_grid(inputs)[0], cmap='Greys')\n",
    "plt.axis('off')\n",
    "plt.show()"
   ]
  },
  {
   "cell_type": "markdown",
   "id": "55f61ad0-7c9b-4144-b2a7-3dce15ebb018",
   "metadata": {},
   "source": [
    "### Creating a class-conditioned UNet"
   ]
  },
  {
   "cell_type": "code",
   "execution_count": null,
   "id": "0e4856f6-5ad0-4e2a-8101-8f5f812190b7",
   "metadata": {},
   "outputs": [],
   "source": [
    "class ClassConditionedUnet(nn.Module):\n",
    "    def __init__(self, num_classes=10, class_embed_size=4):\n",
    "        super().__init__()\n",
    "        \n",
    "        # init embedding layer\n",
    "        self.embedding_layer = nn.Embedding(num_classes, class_embed_size)\n",
    "        \n",
    "        # init UNet\n",
    "        self.model = UNet2DModel(\n",
    "            sample_size=28,\n",
    "            in_channels=class_embed_size + 1,\n",
    "            out_channels=1,\n",
    "            layers_per_block=2,\n",
    "            block_out_channels=(32, 64, 64),\n",
    "            down_block_types=('DownBlock2D',\n",
    "                              'AttnDownBlock2D',\n",
    "                              'AttnDownBlock2D'),\n",
    "            up_block_types=('AttnUpBlock2D',\n",
    "                            'AttnUpBlock2D',\n",
    "                            'UpBlock2D')\n",
    "        )\n",
    "    \n",
    "    def forward(self, x, timestep, class_labels):\n",
    "        # batch_size, channels, height and width\n",
    "        bs, ch, h, w = x.shape\n",
    "        \n",
    "        # compute class embeddings\n",
    "        class_embeds = self.embedding_layer(class_labels)\n",
    "        \n",
    "        # reshape class embeddings\n",
    "        class_embeds = class_embeds.view(*class_embeds.shape, 1, 1).expand(*class_embeds.shape, h, w)\n",
    "        \n",
    "        # concat input \"x\" and class embeddings across the channel dimension\n",
    "        model_input = torch.cat((x, class_embeds), dim=1)\n",
    "        \n",
    "        # forward pass\n",
    "        pred_noise = self.model(model_input, timestep).sample\n",
    "        \n",
    "        return pred_noise"
   ]
  },
  {
   "cell_type": "code",
   "execution_count": null,
   "id": "4785db57-62c5-405d-8dd3-172b6e210574",
   "metadata": {},
   "outputs": [],
   "source": [
    "model = ClassConditionedUnet()\n",
    "out = model(inputs, 0, labels)\n",
    "out.shape"
   ]
  },
  {
   "cell_type": "markdown",
   "id": "dcebd30e-dc23-464e-80ac-3c6018a075fd",
   "metadata": {},
   "source": [
    "### Training"
   ]
  },
  {
   "cell_type": "code",
   "execution_count": null,
   "id": "3ec252c6-12ba-4dea-acf8-b70a73d573f8",
   "metadata": {},
   "outputs": [],
   "source": [
    "epochs = 10\n",
    "\n",
    "# define dataloader\n",
    "batch_size = 128\n",
    "train_dl = DataLoader(dataset, batch_size=batch_size, shuffle=True)\n",
    "\n",
    "\n",
    "# init training scheduler\n",
    "noise_scheduler = DDPMScheduler(num_train_timesteps=1000, beta_schedule='squaredcos_cap_v2')\n",
    "\n",
    "# init model\n",
    "model = ClassConditionedUnet().to(device)\n",
    "model.train()\n",
    "\n",
    "# define loss function\n",
    "loss_fn = nn.MSELoss()\n",
    "\n",
    "# define lr and optimizer\n",
    "lr = 1e-3\n",
    "optimizer = torch.optim.AdamW(params=model.parameters(), lr=lr)\n",
    "\n",
    "losses = []\n",
    "\n",
    "for epoch in tqdm(range(epochs)):\n",
    "    for i, batch in enumerate(tqdm(train_dl)):\n",
    "        inputs = (batch[0] * 2 - 1).to(device)\n",
    "        labels = batch[1].to(device)\n",
    "        \n",
    "        batch_size = inputs.shape[0]\n",
    "        noise = torch.randn_like(inputs).to(device)\n",
    "        timesteps = torch.tensor([random.randint(0, noise_scheduler.num_train_timesteps-1) for _ in range(batch_size)]).to(device)\n",
    "        noisy_inputs = noise_scheduler.add_noise(inputs, noise, timesteps)\n",
    "        \n",
    "        # forward pass\n",
    "        noise_pred = model(noisy_inputs, timesteps, labels)\n",
    "        \n",
    "        # loss\n",
    "        loss = loss_fn(noise_pred, noise)\n",
    "        losses.append(loss.item())\n",
    "        \n",
    "        # backward pass\n",
    "        loss.backward()\n",
    "        \n",
    "        # optimizer step\n",
    "        optimizer.step()\n",
    "        \n",
    "        # optimizer zero grad\n",
    "        optimizer.zero_grad()\n",
    "        \n",
    "        if (i + 1) % 25 == 0:\n",
    "            print(f'step: {i + 1} | loss: {loss}')"
   ]
  },
  {
   "cell_type": "code",
   "execution_count": null,
   "id": "427e7db2-3d1a-4725-98d2-9bf392044b6c",
   "metadata": {},
   "outputs": [],
   "source": [
    "plt.plot(losses)\n",
    "plt.show()"
   ]
  },
  {
   "cell_type": "markdown",
   "id": "46f2f165-76e5-4d4b-914f-605bdfec6a45",
   "metadata": {},
   "source": [
    "### Sampling"
   ]
  },
  {
   "cell_type": "code",
   "execution_count": null,
   "id": "97a6838f-898f-4895-a468-57953a434e31",
   "metadata": {},
   "outputs": [],
   "source": [
    "inputs = torch.randn(80, 1, 28, 28).to(device)\n",
    "labels = torch.tensor([[i] * 8 for i in range(10)]).flatten().to(device)\n",
    "\n",
    "for i, timestep in enumerate(tqdm(noise_scheduler.timesteps)):\n",
    "    with torch.inference_mode():\n",
    "        noise_preds = model(inputs, timestep, labels)\n",
    "    \n",
    "    inputs = noise_scheduler.step(noise_preds, timestep, inputs).prev_sample"
   ]
  },
  {
   "cell_type": "code",
   "execution_count": null,
   "id": "3a0aa1de-1143-4d23-9bbc-73f0a3a926d4",
   "metadata": {},
   "outputs": [],
   "source": [
    "fig, ax = plt.subplots(1, 1, figsize=(12, 12))\n",
    "plt.imshow(torchvision.utils.make_grid(inputs.cpu().clip(-1, 1))[0], cmap='Greys')\n",
    "plt.axis('off')\n",
    "plt.show()"
   ]
  },
  {
   "cell_type": "markdown",
   "id": "85ce22ee-5ff6-4bac-a5a4-0547ab50e801",
   "metadata": {},
   "source": [
    "## FashionMNIST"
   ]
  },
  {
   "cell_type": "markdown",
   "id": "fb80825b-0b3f-4358-bfd2-e9a81c10798b",
   "metadata": {},
   "source": [
    "### Data"
   ]
  },
  {
   "cell_type": "code",
   "execution_count": 3,
   "id": "073cc026-0cb0-4dfb-8b19-531ce2610676",
   "metadata": {},
   "outputs": [
    {
     "name": "stdout",
     "output_type": "stream",
     "text": [
      "Downloading http://fashion-mnist.s3-website.eu-central-1.amazonaws.com/train-images-idx3-ubyte.gz\n",
      "Downloading http://fashion-mnist.s3-website.eu-central-1.amazonaws.com/train-images-idx3-ubyte.gz to ./fashion_mnist/FashionMNIST/raw/train-images-idx3-ubyte.gz\n"
     ]
    },
    {
     "data": {
      "application/vnd.jupyter.widget-view+json": {
       "model_id": "5bb78964d919477c9c2bf7906749d50e",
       "version_major": 2,
       "version_minor": 0
      },
      "text/plain": [
       "  0%|          | 0/26421880 [00:00<?, ?it/s]"
      ]
     },
     "metadata": {},
     "output_type": "display_data"
    },
    {
     "name": "stdout",
     "output_type": "stream",
     "text": [
      "Extracting ./fashion_mnist/FashionMNIST/raw/train-images-idx3-ubyte.gz to ./fashion_mnist/FashionMNIST/raw\n",
      "\n",
      "Downloading http://fashion-mnist.s3-website.eu-central-1.amazonaws.com/train-labels-idx1-ubyte.gz\n",
      "Downloading http://fashion-mnist.s3-website.eu-central-1.amazonaws.com/train-labels-idx1-ubyte.gz to ./fashion_mnist/FashionMNIST/raw/train-labels-idx1-ubyte.gz\n"
     ]
    },
    {
     "data": {
      "application/vnd.jupyter.widget-view+json": {
       "model_id": "68f4a010b99b4a48842d3c5b579fc86b",
       "version_major": 2,
       "version_minor": 0
      },
      "text/plain": [
       "  0%|          | 0/29515 [00:00<?, ?it/s]"
      ]
     },
     "metadata": {},
     "output_type": "display_data"
    },
    {
     "name": "stdout",
     "output_type": "stream",
     "text": [
      "Extracting ./fashion_mnist/FashionMNIST/raw/train-labels-idx1-ubyte.gz to ./fashion_mnist/FashionMNIST/raw\n",
      "\n",
      "Downloading http://fashion-mnist.s3-website.eu-central-1.amazonaws.com/t10k-images-idx3-ubyte.gz\n",
      "Downloading http://fashion-mnist.s3-website.eu-central-1.amazonaws.com/t10k-images-idx3-ubyte.gz to ./fashion_mnist/FashionMNIST/raw/t10k-images-idx3-ubyte.gz\n"
     ]
    },
    {
     "data": {
      "application/vnd.jupyter.widget-view+json": {
       "model_id": "709d5fbccc7044efbf8e86fe4d24558a",
       "version_major": 2,
       "version_minor": 0
      },
      "text/plain": [
       "  0%|          | 0/4422102 [00:00<?, ?it/s]"
      ]
     },
     "metadata": {},
     "output_type": "display_data"
    },
    {
     "name": "stdout",
     "output_type": "stream",
     "text": [
      "Extracting ./fashion_mnist/FashionMNIST/raw/t10k-images-idx3-ubyte.gz to ./fashion_mnist/FashionMNIST/raw\n",
      "\n",
      "Downloading http://fashion-mnist.s3-website.eu-central-1.amazonaws.com/t10k-labels-idx1-ubyte.gz\n",
      "Downloading http://fashion-mnist.s3-website.eu-central-1.amazonaws.com/t10k-labels-idx1-ubyte.gz to ./fashion_mnist/FashionMNIST/raw/t10k-labels-idx1-ubyte.gz\n"
     ]
    },
    {
     "data": {
      "application/vnd.jupyter.widget-view+json": {
       "model_id": "f381e1e19d84457ab7deb04a65758512",
       "version_major": 2,
       "version_minor": 0
      },
      "text/plain": [
       "  0%|          | 0/5148 [00:00<?, ?it/s]"
      ]
     },
     "metadata": {},
     "output_type": "display_data"
    },
    {
     "name": "stdout",
     "output_type": "stream",
     "text": [
      "Extracting ./fashion_mnist/FashionMNIST/raw/t10k-labels-idx1-ubyte.gz to ./fashion_mnist/FashionMNIST/raw\n",
      "\n"
     ]
    }
   ],
   "source": [
    "batch_size = 8\n",
    "\n",
    "dataset = torchvision.datasets.FashionMNIST(root='./fashion_mnist',\n",
    "                                            train=True,\n",
    "                                            download=True,\n",
    "                                            transform=torchvision.transforms.ToTensor())\n",
    "\n",
    "train_dl = DataLoader(dataset, batch_size=batch_size, shuffle=True)"
   ]
  },
  {
   "cell_type": "code",
   "execution_count": 4,
   "id": "fe1fccf5-0257-4cbf-92cd-4e022b084f9f",
   "metadata": {},
   "outputs": [
    {
     "data": {
      "text/plain": [
       "10"
      ]
     },
     "execution_count": 4,
     "metadata": {},
     "output_type": "execute_result"
    }
   ],
   "source": [
    "len(dataset.classes)"
   ]
  },
  {
   "cell_type": "code",
   "execution_count": 5,
   "id": "4ac36550-fdb7-4ce6-9736-e597d70882f9",
   "metadata": {},
   "outputs": [
    {
     "name": "stdout",
     "output_type": "stream",
     "text": [
      "torch.Size([8, 1, 28, 28])\n"
     ]
    },
    {
     "data": {
      "image/png": "[encoded data removed]",
      "text/plain": [
       "<Figure size 864x864 with 1 Axes>"
      ]
     },
     "metadata": {
      "needs_background": "light"
     },
     "output_type": "display_data"
    }
   ],
   "source": [
    "batch = next(iter(train_dl))\n",
    "inputs, labels = batch\n",
    "print(inputs.shape)\n",
    "\n",
    "fig, ax = plt.subplots(1, 1, figsize=(12, 12))\n",
    "plt.imshow(torchvision.utils.make_grid(inputs)[0], cmap='Greys')\n",
    "plt.axis('off')\n",
    "plt.show()"
   ]
  },
  {
   "cell_type": "markdown",
   "id": "494e5d7e-4482-4c85-afad-f94290138391",
   "metadata": {},
   "source": [
    "### Creating a class-conditioned Unet"
   ]
  },
  {
   "cell_type": "code",
   "execution_count": 6,
   "id": "b02273cc-e016-42fa-8c7e-b89993400009",
   "metadata": {},
   "outputs": [],
   "source": [
    "class ClassConditionedUNet(nn.Module):\n",
    "    def __init__(self, num_classes=10, class_embed_size=4):\n",
    "        super().__init__()\n",
    "        \n",
    "        # init emebedding layer\n",
    "        self.embedding_layer = nn.Embedding(num_classes, class_embed_size)\n",
    "        \n",
    "        # init model\n",
    "        self.model = UNet2DModel(\n",
    "            sample_size=28,\n",
    "            in_channels=class_embed_size + 1,\n",
    "            out_channels=1,\n",
    "            layers_per_block=2,\n",
    "            block_out_channels=(32, 64, 64),\n",
    "            down_block_types=('DownBlock2D',\n",
    "                              'AttnDownBlock2D',\n",
    "                              'AttnDownBlock2D'),\n",
    "            up_block_types=('AttnUpBlock2D',\n",
    "                            'AttnUpBlock2D',\n",
    "                            'UpBlock2D')\n",
    "        )\n",
    "        \n",
    "    \n",
    "    def forward(self, x, timestep, labels):\n",
    "        # batch size, channels, height, width\n",
    "        batch_size, ch, h, w = x.shape\n",
    "        \n",
    "        # compute class embeddings\n",
    "        class_embeds = self.embedding_layer(labels)\n",
    "        \n",
    "        # reshape class embeddings\n",
    "        class_embeds = class_embeds.view(*class_embeds.shape, 1, 1).expand(*class_embeds.shape, h, w)\n",
    "        \n",
    "        # concatenate input \"x\" and class embeddings together across channel dimension\n",
    "        model_input = torch.cat((x, class_embeds), dim=1)\n",
    "        \n",
    "        # forward pass\n",
    "        noise_pred = self.model(model_input, timestep)\n",
    "        \n",
    "        return noise_pred"
   ]
  },
  {
   "cell_type": "code",
   "execution_count": 7,
   "id": "96a01b8c-46ce-43a5-8273-983e7595f3d4",
   "metadata": {},
   "outputs": [
    {
     "data": {
      "text/plain": [
       "torch.Size([8, 1, 28, 28])"
      ]
     },
     "execution_count": 7,
     "metadata": {},
     "output_type": "execute_result"
    }
   ],
   "source": [
    "model = ClassConditionedUNet()\n",
    "out = model(x=inputs, timestep=0, labels=labels).sample\n",
    "out.shape"
   ]
  },
  {
   "cell_type": "markdown",
   "id": "f69aff2d-2810-44c8-b0a0-30de21ca1076",
   "metadata": {},
   "source": [
    "### Training"
   ]
  },
  {
   "cell_type": "code",
   "execution_count": 8,
   "id": "c599379a-08a5-4411-b595-d458949ead37",
   "metadata": {},
   "outputs": [
    {
     "data": {
      "application/vnd.jupyter.widget-view+json": {
       "model_id": "50fb8aad4b6a49eab742f2e345311c63",
       "version_major": 2,
       "version_minor": 0
      },
      "text/plain": [
       "  0%|          | 0/1 [00:00<?, ?it/s]"
      ]
     },
     "metadata": {},
     "output_type": "display_data"
    },
    {
     "data": {
      "application/vnd.jupyter.widget-view+json": {
       "model_id": "",
       "version_major": 2,
       "version_minor": 0
      },
      "text/plain": [
       "  0%|          | 0/469 [00:00<?, ?it/s]"
      ]
     },
     "metadata": {},
     "output_type": "display_data"
    },
    {
     "name": "stdout",
     "output_type": "stream",
     "text": [
      "epoch: 1 | loss: 0.11589805076498466\n"
     ]
    }
   ],
   "source": [
    "epochs = 1\n",
    "\n",
    "# dataloader\n",
    "batch_size = 128\n",
    "train_dl = DataLoader(dataset, batch_size=batch_size, shuffle=True)\n",
    "\n",
    "# training scheduler\n",
    "noise_scheduler = DDPMScheduler(num_train_timesteps=1000, beta_schedule='squaredcos_cap_v2')\n",
    "\n",
    "# model\n",
    "model = ClassConditionedUNet().to(device)\n",
    "model.train()\n",
    "\n",
    "# lr & optimizer\n",
    "lr = 1e-3\n",
    "optimizer = torch.optim.AdamW(params=model.parameters(), lr=lr)\n",
    "lr_scheduler = torch.optim.lr_scheduler.ExponentialLR(optimizer, gamma=0.9)\n",
    "lrs = []\n",
    "\n",
    "# loss\n",
    "loss_fn = nn.MSELoss()\n",
    "losses = []\n",
    "\n",
    "\n",
    "for epoch in tqdm(range(epochs)):\n",
    "    for i, batch in enumerate(tqdm(train_dl, leave=False)):\n",
    "        inputs = (batch[0] * 2 - 1).to(device)\n",
    "        labels = batch[1].to(device)\n",
    "        noise = torch.randn_like(inputs).to(device)\n",
    "        \n",
    "        # create random timesteps\n",
    "        batch_size = inputs.shape[0]\n",
    "        num_timesteps = noise_scheduler.num_train_timesteps\n",
    "        timesteps = torch.tensor([random.randint(0, num_timesteps-1) for _ in range(batch_size)]).to(device)\n",
    "        \n",
    "        # add noise to inputs\n",
    "        noisy_inputs = noise_scheduler.add_noise(inputs, noise, timesteps)\n",
    "        \n",
    "        # forward pass\n",
    "        noise_pred = model(noisy_inputs, timesteps, labels).sample\n",
    "        \n",
    "        # loss\n",
    "        loss = loss_fn(noise_pred, noise)\n",
    "        losses.append(loss.item())\n",
    "        \n",
    "        # backward pass\n",
    "        loss.backward()\n",
    "        \n",
    "        # optimizer step\n",
    "        optimizer.step()\n",
    "        \n",
    "        # optimizer zero grad\n",
    "        optimizer.zero_grad()\n",
    "        \n",
    "    # lr scheduler step\n",
    "    lrs.append(optimizer.param_groups[0]['lr'])\n",
    "    lr_scheduler.step()\n",
    "    \n",
    "    epoch_avg_loss = sum(losses[-len(train_dl):]) / len(train_dl)\n",
    "    print(f'epoch: {epoch+1} | loss: {epoch_avg_loss}')"
   ]
  },
  {
   "cell_type": "code",
   "execution_count": 9,
   "id": "c3259806-8d5f-4b8a-bde5-5bab5aa64342",
   "metadata": {},
   "outputs": [
    {
     "data": {
      "image/png": "[encoded data removed]",
      "text/plain": [
       "<Figure size 864x432 with 2 Axes>"
      ]
     },
     "metadata": {
      "needs_background": "light"
     },
     "output_type": "display_data"
    }
   ],
   "source": [
    "fig, axs = plt.subplots(1, 2, figsize=(12, 6))\n",
    "axs[0].plot(losses)\n",
    "axs[1].plot(lrs)\n",
    "plt.show()"
   ]
  },
  {
   "cell_type": "code",
   "execution_count": null,
   "id": "ebc1afe8-5bcf-45e8-934a-ab1fd760d9f5",
   "metadata": {},
   "outputs": [],
   "source": [
    "pipeline = DDPMPipeline(unet=model, scheduler=noise_scheduler)\n",
    "pipeline.save_pretrained('./pretrained_1epoch')"
   ]
  },
  {
   "cell_type": "markdown",
   "id": "09a8b67c-aa57-4dac-ac40-140ea61ee8d5",
   "metadata": {},
   "source": [
    "### Sampling"
   ]
  },
  {
   "cell_type": "code",
   "execution_count": null,
   "id": "bb12d7b4-b160-427b-a790-c528314760e5",
   "metadata": {},
   "outputs": [],
   "source": [
    "generator = torch.Generator(device=device).manual_seed(seed)\n",
    "x = torch.randn((80, 1, 28, 28), device=device, generator=generator)\n",
    "labels = torch.tensor([[i] * 8 for i in range(10)]).flatten().to(device)\n",
    "\n",
    "for i, timestep in enumerate(tqdm(noise_scheduler.timesteps)):\n",
    "    with torch.inference_mode():\n",
    "        noise_pred = model(x, timestep, labels).sample\n",
    "    \n",
    "    x = noise_scheduler.step(noise_pred, timestep, x, generator=generator).prev_sample"
   ]
  },
  {
   "cell_type": "code",
   "execution_count": null,
   "id": "b6481c4b-6c5c-4aeb-b612-28687d750db8",
   "metadata": {},
   "outputs": [],
   "source": []
  },
  {
   "cell_type": "code",
   "execution_count": null,
   "id": "961b8af8-b4f5-4b3f-bd43-3e7d1691f85a",
   "metadata": {},
   "outputs": [],
   "source": [
    "pred_images = torchvision.transforms.functional.invert(((x.cpu().clip(-1, 1) + 1) / 2))\n",
    "pred_images = [tensor2pil(image) for image in pred_images]"
   ]
  },
  {
   "cell_type": "code",
   "execution_count": null,
   "id": "d780e925-562a-4137-8c92-149dc82341e9",
   "metadata": {},
   "outputs": [],
   "source": [
    "fig, ax = plt.subplots(1, 1, figsize=(12, 12))\n",
    "plt.imshow(torchvision.utils.make_grid(x.cpu().clip(-1, 1))[0], cmap='Greys')\n",
    "plt.axis('off')\n",
    "plt.show()"
   ]
  },
  {
   "cell_type": "markdown",
   "id": "7d28a7f5-83c9-4f74-8025-dbcd3f64b98b",
   "metadata": {},
   "source": [
    "### Sampling (pipeline)"
   ]
  },
  {
   "cell_type": "code",
   "execution_count": null,
   "id": "5b6900d6-93ea-40db-8048-0125aea23f1d",
   "metadata": {},
   "outputs": [],
   "source": [
    "pipeline = DDPMPipeline(unet=model, scheduler=noise_scheduler)"
   ]
  },
  {
   "cell_type": "code",
   "execution_count": null,
   "id": "afe5a563-befd-446f-b15a-f1673f7f961e",
   "metadata": {},
   "outputs": [],
   "source": [
    "images = pipeline(batch_size=4)"
   ]
  },
  {
   "cell_type": "code",
   "execution_count": null,
   "id": "e351a026-8813-41a3-a65f-435059b2b01b",
   "metadata": {},
   "outputs": [],
   "source": []
  },
  {
   "cell_type": "code",
   "execution_count": null,
   "id": "c6642dd6-2884-48fd-918c-d1adf7a2d60a",
   "metadata": {},
   "outputs": [],
   "source": []
  },
  {
   "cell_type": "code",
   "execution_count": null,
   "id": "bf9be694-cf0c-4d39-9dbd-8cc537fd4ce5",
   "metadata": {},
   "outputs": [],
   "source": []
  },
  {
   "cell_type": "code",
   "execution_count": null,
   "id": "c53348fc-e9af-4b17-849d-7f7eaa696ddd",
   "metadata": {},
   "outputs": [],
   "source": []
  },
  {
   "cell_type": "markdown",
   "id": "77eecf37-3624-49d5-881d-a646385d6eec",
   "metadata": {},
   "source": [
    "### Accelerate"
   ]
  },
  {
   "cell_type": "code",
   "execution_count": null,
   "id": "c949eef7-22fc-4eee-9809-94564c5ada73",
   "metadata": {},
   "outputs": [],
   "source": [
    "PROJECT_NAME = 'fashion_mnist_diffusers'\n",
    "MODEL_NAME = 'fashion_mnist_class_cond_unet'"
   ]
  },
  {
   "cell_type": "code",
   "execution_count": null,
   "id": "dbface88-98b0-423f-a23d-281742462a06",
   "metadata": {},
   "outputs": [],
   "source": [
    "dataset = torchvision.datasets.FashionMNIST(root='./fashion_mnist',\n",
    "                                            train=True,\n",
    "                                            download=True,\n",
    "                                            transform=torchvision.transforms.ToTensor())"
   ]
  },
  {
   "cell_type": "code",
   "execution_count": null,
   "id": "e81d9ef2-08b7-40a5-9e88-d779f6bb9eb1",
   "metadata": {},
   "outputs": [],
   "source": [
    "!accelerate launch --mixed_precision=fp16 fashionmnist_accelerate.py \\\n",
    "    --project_name={PROJECT_NAME} \\\n",
    "    --output_dir={PROJECT_NAME} \\\n",
    "    --ddpm_beta_schedule='squaredcos_cap_v2' \\\n",
    "    --dataset_name=None \\\n",
    "    --train_data_dir=None \\\n",
    "    --dataset_sample_size=100 \\\n",
    "    --seed=2077 \\\n",
    "    --resolution=28 \\\n",
    "    --output_dir={MODEL_NAME} \\\n",
    "    --train_batch_size=128 \\\n",
    "    --eval_batch_size=8 \\\n",
    "    --num_epochs=10 \\\n",
    "    --gradient_accumulation_steps=1 \\\n",
    "    --learning_rate=4e-4 \\\n",
    "    --lr_scheduler=\"cosine\" \\\n",
    "    --lr_warmup_steps=500 \\\n",
    "    --mixed_precision=\"fp16\" \\\n",
    "    --save_images_epochs=1 \\\n",
    "    --save_model_epochs=1 \\\n",
    "    --push_to_wandb"
   ]
  },
  {
   "cell_type": "code",
   "execution_count": null,
   "id": "50959568-0725-42d3-8d50-d150848897e4",
   "metadata": {},
   "outputs": [],
   "source": []
  },
  {
   "cell_type": "code",
   "execution_count": null,
   "id": "0d0e5950-ee59-4f88-bb06-d0570dd20113",
   "metadata": {},
   "outputs": [],
   "source": []
  },
  {
   "cell_type": "code",
   "execution_count": null,
   "id": "e01f00f4-ffab-447c-ad34-2b33466539f5",
   "metadata": {},
   "outputs": [],
   "source": []
  },
  {
   "cell_type": "code",
   "execution_count": null,
   "id": "38cb3b9a-cf61-4b42-b0ca-e8dbb39f6efc",
   "metadata": {},
   "outputs": [],
   "source": []
  },
  {
   "cell_type": "code",
   "execution_count": null,
   "id": "4197d154-c132-44c4-86da-e989ea9b97df",
   "metadata": {},
   "outputs": [],
   "source": []
  },
  {
   "cell_type": "code",
   "execution_count": null,
   "id": "d3c93d9d-75e1-4687-8dde-582efd155793",
   "metadata": {},
   "outputs": [],
   "source": []
  },
  {
   "cell_type": "code",
   "execution_count": null,
   "id": "98e3a62e-9c05-4a6f-88c0-604b383436bc",
   "metadata": {},
   "outputs": [],
   "source": []
  }
 ],
 "metadata": {
  "kernelspec": {
   "display_name": "Python 3 (ipykernel)",
   "language": "python",
   "name": "python3"
  },
  "language_info": {
   "codemirror_mode": {
    "name": "ipython",
    "version": 3
   },
   "file_extension": ".py",
   "mimetype": "text/x-python",
   "name": "python",
   "nbconvert_exporter": "python",
   "pygments_lexer": "ipython3",
   "version": "3.7.13"
  }
 },
 "nbformat": 4,
 "nbformat_minor": 5
}
