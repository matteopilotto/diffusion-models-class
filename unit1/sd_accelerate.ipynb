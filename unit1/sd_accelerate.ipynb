{
 "cells": [
  {
   "cell_type": "code",
   "execution_count": 1,
   "id": "1ee15e39-2311-4133-a562-6791844e4370",
   "metadata": {},
   "outputs": [],
   "source": [
    "!pip install -qq -U diffusers datasets transformers accelerate ftfy\n",
    "!pip install -qq wandb\n",
    "!pip install -qq torchinfo\n",
    "!pip install -qq matplotlib"
   ]
  },
  {
   "cell_type": "code",
   "execution_count": 2,
   "id": "dba20a36-d69d-4779-8b88-e2671e3961a5",
   "metadata": {},
   "outputs": [],
   "source": [
    "from huggingface_hub import notebook_login\n",
    "from datasets import load_dataset\n",
    "import wandb\n",
    "import torch\n",
    "from diffusers import DDPMScheduler, UNet2DModel, DDPMPipeline\n",
    "from pathlib import Path\n",
    "\n",
    "\n",
    "device = 'cuda' if torch.cuda.is_available() else 'cpu'"
   ]
  },
  {
   "cell_type": "code",
   "execution_count": 3,
   "id": "40ccb76d-3c1f-442b-8fd3-e5c425c4b643",
   "metadata": {},
   "outputs": [],
   "source": [
    "def make_grid(images, size=64):\n",
    "    \"\"\"Given a list of PIL images, stack them together into a line for easy viewing\"\"\"\n",
    "    \n",
    "    output_im = Image.new(\"RGB\", (size * len(images), size))\n",
    "    for i, im in enumerate(images):\n",
    "        output_im.paste(im.resize((size, size)), (i * size, 0))\n",
    "    return output_im"
   ]
  },
  {
   "cell_type": "markdown",
   "id": "bcbecc82-2a99-4ff1-a779-44c68fa2d361",
   "metadata": {},
   "source": [
    "https://huggingface.co/settings/tokens"
   ]
  },
  {
   "cell_type": "code",
   "execution_count": null,
   "id": "2c016405-70b2-4e3b-abfc-346615aa658a",
   "metadata": {},
   "outputs": [],
   "source": [
    "notebook_login()"
   ]
  },
  {
   "cell_type": "code",
   "execution_count": 4,
   "id": "33c44ba5-1bb1-4a1c-be8c-4221a2ce83b2",
   "metadata": {},
   "outputs": [
    {
     "data": {
      "application/vnd.jupyter.widget-view+json": {
       "model_id": "ca510cef1146419fa91f1879e360e6c7",
       "version_major": 2,
       "version_minor": 0
      },
      "text/plain": [
       "Downloading metadata:   0%|          | 0.00/645 [00:00<?, ?B/s]"
      ]
     },
     "metadata": {},
     "output_type": "display_data"
    },
    {
     "data": {
      "application/vnd.jupyter.widget-view+json": {
       "model_id": "38bec5e3657e492eaf385606a6393938",
       "version_major": 2,
       "version_minor": 0
      },
      "text/plain": [
       "Downloading readme:   0%|          | 0.00/65.0 [00:00<?, ?B/s]"
      ]
     },
     "metadata": {},
     "output_type": "display_data"
    },
    {
     "name": "stderr",
     "output_type": "stream",
     "text": [
      "Using custom data configuration huggan--pokemon-8faf296a1351d650\n"
     ]
    },
    {
     "name": "stdout",
     "output_type": "stream",
     "text": [
      "Downloading and preparing dataset image_folder/default (download: 124.60 MiB, generated: 58.54 MiB, post-processed: Unknown size, total: 183.14 MiB) to /root/.cache/huggingface/datasets/huggan___parquet/huggan--pokemon-8faf296a1351d650/0.0.0/2a3b91fbd88a2c90d1dbbb32b460cf621d31bd5b05b934492fdef7d8d6f236ec...\n"
     ]
    },
    {
     "data": {
      "application/vnd.jupyter.widget-view+json": {
       "model_id": "c37238a224924dd4aea701550b67b379",
       "version_major": 2,
       "version_minor": 0
      },
      "text/plain": [
       "Downloading data files:   0%|          | 0/1 [00:00<?, ?it/s]"
      ]
     },
     "metadata": {},
     "output_type": "display_data"
    },
    {
     "data": {
      "application/vnd.jupyter.widget-view+json": {
       "model_id": "a2a40ea1a81248f7aa65c1f8410a51ee",
       "version_major": 2,
       "version_minor": 0
      },
      "text/plain": [
       "Downloading data:   0%|          | 0.00/131M [00:00<?, ?B/s]"
      ]
     },
     "metadata": {},
     "output_type": "display_data"
    },
    {
     "data": {
      "application/vnd.jupyter.widget-view+json": {
       "model_id": "7cc94254095b4874b9dc26fa4885fa19",
       "version_major": 2,
       "version_minor": 0
      },
      "text/plain": [
       "Extracting data files:   0%|          | 0/1 [00:00<?, ?it/s]"
      ]
     },
     "metadata": {},
     "output_type": "display_data"
    },
    {
     "data": {
      "application/vnd.jupyter.widget-view+json": {
       "model_id": "7f6386b036584f61b39f0424490e6ccb",
       "version_major": 2,
       "version_minor": 0
      },
      "text/plain": [
       "Generating train split:   0%|          | 0/7357 [00:00<?, ? examples/s]"
      ]
     },
     "metadata": {},
     "output_type": "display_data"
    },
    {
     "name": "stdout",
     "output_type": "stream",
     "text": [
      "Dataset parquet downloaded and prepared to /root/.cache/huggingface/datasets/huggan___parquet/huggan--pokemon-8faf296a1351d650/0.0.0/2a3b91fbd88a2c90d1dbbb32b460cf621d31bd5b05b934492fdef7d8d6f236ec. Subsequent calls will reuse this data.\n"
     ]
    },
    {
     "data": {
      "application/vnd.jupyter.widget-view+json": {
       "model_id": "42ca2cd6202640c2a787fb49484a1e79",
       "version_major": 2,
       "version_minor": 0
      },
      "text/plain": [
       "  0%|          | 0/1 [00:00<?, ?it/s]"
      ]
     },
     "metadata": {},
     "output_type": "display_data"
    }
   ],
   "source": [
    "dataset = load_dataset('huggan/pokemon')"
   ]
  },
  {
   "cell_type": "code",
   "execution_count": 5,
   "id": "90aaf4bb-22cf-4562-ace5-45f2c8b0cb64",
   "metadata": {},
   "outputs": [
    {
     "data": {
      "text/plain": [
       "DatasetDict({\n",
       "    train: Dataset({\n",
       "        features: ['image'],\n",
       "        num_rows: 7357\n",
       "    })\n",
       "})"
      ]
     },
     "execution_count": 5,
     "metadata": {},
     "output_type": "execute_result"
    }
   ],
   "source": [
    "dataset"
   ]
  },
  {
   "cell_type": "code",
   "execution_count": 6,
   "id": "37ca9228-b7eb-48bd-ac0a-f4b32f04fc8c",
   "metadata": {},
   "outputs": [],
   "source": [
    "PROJECT_NAME = \"sd-pokemon\"\n",
    "MODEL_NAME = \"sd-pokemon-64\""
   ]
  },
  {
   "cell_type": "code",
   "execution_count": null,
   "id": "955885db-4e76-4e07-b6a1-d1d38d8aa6d8",
   "metadata": {},
   "outputs": [
    {
     "name": "stdout",
     "output_type": "stream",
     "text": [
      "The following values were not passed to `accelerate launch` and had defaults used instead:\n",
      "\t`--num_processes` was set to a value of `1`\n",
      "\t`--num_machines` was set to a value of `1`\n",
      "\t`--dynamo_backend` was set to a value of `'no'`\n",
      "To avoid this warning pass in values for each of the problematic parameters or run `accelerate config`.\n",
      "Using custom data configuration huggan--pokemon-8faf296a1351d650\n",
      "Found cached dataset parquet (/root/.cache/huggingface/datasets/huggan___parquet/huggan--pokemon-8faf296a1351d650/0.0.0/2a3b91fbd88a2c90d1dbbb32b460cf621d31bd5b05b934492fdef7d8d6f236ec)\n",
      "Loading cached shuffled indices for dataset at /root/.cache/huggingface/datasets/huggan___parquet/huggan--pokemon-8faf296a1351d650/0.0.0/2a3b91fbd88a2c90d1dbbb32b460cf621d31bd5b05b934492fdef7d8d6f236ec/cache-1713741c4c5cdf2b.arrow\n",
      "\u001b[34m\u001b[1mwandb\u001b[0m: Currently logged in as: \u001b[33mmatt24\u001b[0m. Use \u001b[1m`wandb login --relogin`\u001b[0m to force relogin\n",
      "\u001b[34m\u001b[1mwandb\u001b[0m: Tracking run with wandb version 0.13.6\n",
      "\u001b[34m\u001b[1mwandb\u001b[0m: Run data is saved locally in \u001b[35m\u001b[1m/workspace/diffusion-models-class/unit1/wandb/run-20221211_185039-2gqila1a\u001b[0m\n",
      "\u001b[34m\u001b[1mwandb\u001b[0m: Run \u001b[1m`wandb offline`\u001b[0m to turn off syncing.\n",
      "\u001b[34m\u001b[1mwandb\u001b[0m: Syncing run \u001b[33mdandy-gorge-49\u001b[0m\n",
      "\u001b[34m\u001b[1mwandb\u001b[0m: ⭐️ View project at \u001b[34m\u001b[4mhttps://wandb.ai/matt24/sd-pokemon\u001b[0m\n",
      "\u001b[34m\u001b[1mwandb\u001b[0m: 🚀 View run at \u001b[34m\u001b[4mhttps://wandb.ai/matt24/sd-pokemon/runs/2gqila1a\u001b[0m\n",
      "Epoch 0: 100%|█| 2/2 [00:02<00:00,  1.34s/it, ema_decay=0, loss=1.12, lr=1.6e-6,\n",
      "Epoch 1: 100%|█| 2/2 [00:01<00:00,  1.15it/s, ema_decay=0.561, loss=1.12, lr=3.2\n",
      "Epoch 2: 100%|█| 2/2 [00:01<00:00,  1.15it/s, ema_decay=0.701, loss=1.1, lr=4.8e\n",
      "Epoch 3: 100%|█| 2/2 [00:01<00:00,  1.11it/s, ema_decay=0.768, loss=1.07, lr=6.4\n",
      "Epoch 4: 100%|█| 2/2 [00:01<00:00,  1.16it/s, ema_decay=0.808, loss=1.03, lr=8e-\n",
      "Epoch 5: 100%|█| 2/2 [00:01<00:00,  1.16it/s, ema_decay=0.834, loss=1, lr=9.6e-6\n",
      "Epoch 6: 100%|█| 2/2 [00:01<00:00,  1.15it/s, ema_decay=0.854, loss=0.962, lr=1.\n",
      "Epoch 7: 100%|█| 2/2 [00:01<00:00,  1.16it/s, ema_decay=0.869, loss=0.915, lr=1.\n",
      "Epoch 8: 100%|█| 2/2 [00:01<00:00,  1.13it/s, ema_decay=0.881, loss=0.878, lr=1.\n",
      "Epoch 9: 100%|█| 2/2 [00:01<00:00,  1.14it/s, ema_decay=0.89, loss=0.842, lr=1.6\n",
      "100%|███████████████████████████████████████| 1000/1000 [00:17<00:00, 55.65it/s]\n",
      "\u001b[34m\u001b[1mwandb\u001b[0m: Adding directory to artifact (./sd-pokemon-64)... Done. 1.0s\n",
      "Epoch 10: 100%|█| 2/2 [00:01<00:00,  1.08it/s, ema_decay=0.898, loss=0.779, lr=1\n",
      "Epoch 11: 100%|█| 2/2 [00:01<00:00,  1.10it/s, ema_decay=0.905, loss=0.711, lr=1\n",
      "Epoch 12: 100%|█| 2/2 [00:01<00:00,  1.10it/s, ema_decay=0.911, loss=0.705, lr=2\n",
      "Epoch 13: 100%|█| 2/2 [00:01<00:00,  1.11it/s, ema_decay=0.916, loss=0.606, lr=2\n",
      "Epoch 14: 100%|█| 2/2 [00:01<00:00,  1.11it/s, ema_decay=0.92, loss=0.553, lr=2.\n",
      "Epoch 15: 100%|█| 2/2 [00:01<00:00,  1.12it/s, ema_decay=0.924, loss=0.519, lr=2\n",
      "Epoch 16: 100%|█| 2/2 [00:01<00:00,  1.10it/s, ema_decay=0.927, loss=0.523, lr=2\n",
      "Epoch 17: 100%|█| 2/2 [00:01<00:00,  1.07it/s, ema_decay=0.931, loss=0.448, lr=2\n",
      "Epoch 18: 100%|█| 2/2 [00:01<00:00,  1.08it/s, ema_decay=0.933, loss=0.372, lr=3\n",
      "Epoch 19: 100%|█| 2/2 [00:01<00:00,  1.08it/s, ema_decay=0.936, loss=0.345, lr=3\n",
      "100%|███████████████████████████████████████| 1000/1000 [00:18<00:00, 54.27it/s]\n",
      "\u001b[34m\u001b[1mwandb\u001b[0m: Adding directory to artifact (./sd-pokemon-64)... Done. 1.0s\n",
      "Epoch 20: 100%|█| 2/2 [00:01<00:00,  1.07it/s, ema_decay=0.938, loss=0.302, lr=3\n",
      "Epoch 21: 100%|█| 2/2 [00:01<00:00,  1.10it/s, ema_decay=0.94, loss=0.272, lr=3.\n",
      "Epoch 22: 100%|█| 2/2 [00:01<00:00,  1.12it/s, ema_decay=0.942, loss=0.338, lr=3\n",
      "Epoch 23: 100%|█| 2/2 [00:01<00:00,  1.11it/s, ema_decay=0.944, loss=0.214, lr=3\n",
      "Epoch 24: 100%|█| 2/2 [00:01<00:00,  1.08it/s, ema_decay=0.946, loss=0.22, lr=4e\n",
      "Epoch 25: 100%|█| 2/2 [00:01<00:00,  1.11it/s, ema_decay=0.948, loss=0.211, lr=4\n",
      "Epoch 26: 100%|█| 2/2 [00:01<00:00,  1.09it/s, ema_decay=0.949, loss=0.167, lr=4\n",
      "Epoch 27: 100%|█| 2/2 [00:01<00:00,  1.11it/s, ema_decay=0.95, loss=0.178, lr=4.\n",
      "Epoch 28: 100%|█| 2/2 [00:01<00:00,  1.06it/s, ema_decay=0.952, loss=0.193, lr=4\n",
      "Epoch 29: 100%|█| 2/2 [00:01<00:00,  1.09it/s, ema_decay=0.953, loss=0.189, lr=4\n",
      "100%|███████████████████████████████████████| 1000/1000 [00:18<00:00, 53.90it/s]\n",
      "\u001b[34m\u001b[1mwandb\u001b[0m: Adding directory to artifact (./sd-pokemon-64)... Done. 1.0s\n",
      "\u001b[34m\u001b[1mwandb\u001b[0m: Waiting for W&B process to finish... \u001b[32m(success).\u001b[0m\n"
     ]
    }
   ],
   "source": [
    "!accelerate launch --mixed_precision=fp16 train_unconditional_v3.py \\\n",
    "    --project_name={PROJECT_NAME} \\\n",
    "    --ddpm_beta_schedule='squaredcos_cap_v2' \\\n",
    "    --dataset_name='huggan/pokemon' \\\n",
    "    --dataset_sample_size=100 \\\n",
    "    --seed=2077 \\\n",
    "    --resolution=64 \\\n",
    "    --output_dir={MODEL_NAME} \\\n",
    "    --train_batch_size=64 \\\n",
    "    --eval_batch_size=4 \\\n",
    "    --num_epochs=30 \\\n",
    "    --gradient_accumulation_steps=1 \\\n",
    "    --learning_rate=4e-4 \\\n",
    "    --lr_scheduler=\"cosine\" \\\n",
    "    --lr_warmup_steps=500 \\\n",
    "    --dataloader_num_workers=12 \\\n",
    "    --mixed_precision=\"fp16\""
   ]
  },
  {
   "cell_type": "code",
   "execution_count": null,
   "id": "27cca813-6ce4-4d05-b10b-d4c291267009",
   "metadata": {},
   "outputs": [],
   "source": [
    "!pwd"
   ]
  },
  {
   "cell_type": "code",
   "execution_count": null,
   "id": "1d87d1ba-0d5b-4842-b3b1-958dacf38753",
   "metadata": {},
   "outputs": [],
   "source": [
    "!rm -rf ./tmp52yergkewandb-media"
   ]
  },
  {
   "cell_type": "code",
   "execution_count": null,
   "id": "5ebc343a-f6e1-4ad1-a43b-98b7ea820307",
   "metadata": {},
   "outputs": [],
   "source": [
    "import gc\n",
    "gc.collect()\n",
    "torch.cuda.empty_cache()\n",
    "gc.collect()\n",
    "torch.cuda.ipc_collect()"
   ]
  },
  {
   "cell_type": "code",
   "execution_count": null,
   "id": "3309ac92-b380-49c0-9961-c310dfad5680",
   "metadata": {},
   "outputs": [],
   "source": [
    "# SAVE MODEL'S CHECKPOINT ON WANDB \n",
    "\n",
    "# ref: https://docs.wandb.ai/guides/track/advanced/resuming\n",
    "# ref: https://docs.wandb.ai/ref/python/artifact\n",
    "\n",
    "RUN_ID = '1tbe0g9n'\n",
    "MODEL_PATH = f'./{MODEL_NAME}'\n",
    "\n",
    "with wandb.init(project=PROJECT_NAME, id=RUN_ID, resume=True) as run:\n",
    "    artifact = wandb.Artifact(RUN_ID, type='model')\n",
    "    artifact.add_dir(MODEL_PATH)\n",
    "    run.log_artifact(artifact)"
   ]
  },
  {
   "cell_type": "code",
   "execution_count": null,
   "id": "dcb64d0f-8183-4f3b-ab9d-b20580dddf7f",
   "metadata": {},
   "outputs": [],
   "source": [
    "# DOWNLOAD MODEL'S CHECKPOINT FROM WANDB\n",
    "\n",
    "RUN_ID = '1tbe0g9n'\n",
    "with wandb.init(project=PROJECT_NAME, id=RUN_ID, resume=True) as run:\n",
    "    artifact = wandb.use_artifact(f'matt24/{PROJECT_NAME}/{RUN_ID}:v0', type='model')\n",
    "    artifact_dir = artifact.download()\n",
    "\n",
    "print(artifact_dir)"
   ]
  },
  {
   "cell_type": "code",
   "execution_count": null,
   "id": "afe6ebc6-4ff7-4b77-a79e-3cc3bc690d0d",
   "metadata": {},
   "outputs": [],
   "source": [
    "# LOAD MODEL'S CHECKPOINT IN THE GENERATIVE PIPELINE\n",
    "\n",
    "ckpt = Path(artifact_dir)\n",
    "\n",
    "model = UNet2DModel.from_pretrained(pretrained_model_name_or_path=ckpt/'unet')\n",
    "noise_scheduler = DDPMScheduler.from_pretrained(pretrained_model_name_or_path=ckpt/'scheduler')\n",
    "pipeline = DDPMPipeline(unet=model, scheduler=noise_scheduler).to(device)"
   ]
  },
  {
   "cell_type": "code",
   "execution_count": null,
   "id": "5dbe9459-0df1-4ceb-a440-e61a2cc6ff63",
   "metadata": {},
   "outputs": [],
   "source": [
    "from PIL import Image\n",
    "generator = torch.Generator(device=pipeline.device).manual_seed(0)\n",
    "images = pipeline(batch_size=64, generator=generator).images\n",
    "make_grid(images, size=32)"
   ]
  },
  {
   "cell_type": "code",
   "execution_count": null,
   "id": "0900e851-9818-4ad4-9e3d-3ec1fa80ea24",
   "metadata": {},
   "outputs": [],
   "source": [
    "with wandb.init(project=PROJECT_NAME, id=RUN_ID, resume=True) as run:\n",
    "    run.log({\"Generated images\": [wandb.Image(image) for image in images]})"
   ]
  },
  {
   "cell_type": "markdown",
   "id": "dbeb747c-4be4-40ef-bc78-175f69d21b7d",
   "metadata": {},
   "source": [
    "#### Other example"
   ]
  },
  {
   "cell_type": "code",
   "execution_count": null,
   "id": "5f1e1e43-2e4d-4ae3-b074-c917ab9a1fa9",
   "metadata": {},
   "outputs": [],
   "source": [
    "model_ckpt = 'anton-l/ddpm-ema-pokemon-64'\n",
    "pipeline = DDPMPipeline.from_pretrained(model_ckpt).to(device)"
   ]
  },
  {
   "cell_type": "code",
   "execution_count": null,
   "id": "f2d253fc-2ba1-422b-93ba-823c9e60e7a7",
   "metadata": {},
   "outputs": [],
   "source": [
    "images = pipeline(batch_size=32).images"
   ]
  },
  {
   "cell_type": "code",
   "execution_count": null,
   "id": "88ad5c77-44de-4d27-b9e2-9f87ae2957e2",
   "metadata": {},
   "outputs": [],
   "source": [
    "for image in images:\n",
    "    display(image)"
   ]
  }
 ],
 "metadata": {
  "kernelspec": {
   "display_name": "Python 3 (ipykernel)",
   "language": "python",
   "name": "python3"
  },
  "language_info": {
   "codemirror_mode": {
    "name": "ipython",
    "version": 3
   },
   "file_extension": ".py",
   "mimetype": "text/x-python",
   "name": "python",
   "nbconvert_exporter": "python",
   "pygments_lexer": "ipython3",
   "version": "3.7.13"
  }
 },
 "nbformat": 4,
 "nbformat_minor": 5
}
