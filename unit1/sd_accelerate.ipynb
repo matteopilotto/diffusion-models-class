{
 "cells": [
  {
   "cell_type": "code",
   "execution_count": 1,
   "id": "1ee15e39-2311-4133-a562-6791844e4370",
   "metadata": {},
   "outputs": [],
   "source": [
    "!pip install -qq -U diffusers datasets transformers accelerate ftfy\n",
    "!pip install -qq wandb\n",
    "!pip install -qq torchinfo\n",
    "!pip install -qq matplotlib"
   ]
  },
  {
   "cell_type": "code",
   "execution_count": 2,
   "id": "dba20a36-d69d-4779-8b88-e2671e3961a5",
   "metadata": {},
   "outputs": [],
   "source": [
    "from huggingface_hub import notebook_login\n",
    "from datasets import load_dataset\n",
    "import wandb\n",
    "import torch\n",
    "from diffusers import DDPMScheduler, UNet2DModel, DDPMPipeline\n",
    "from pathlib import Path\n",
    "\n",
    "\n",
    "device = 'cuda' if torch.cuda.is_available() else 'cpu'"
   ]
  },
  {
   "cell_type": "code",
   "execution_count": 3,
   "id": "40ccb76d-3c1f-442b-8fd3-e5c425c4b643",
   "metadata": {},
   "outputs": [],
   "source": [
    "def make_grid(images, size=64):\n",
    "    \"\"\"Given a list of PIL images, stack them together into a line for easy viewing\"\"\"\n",
    "    \n",
    "    output_im = Image.new(\"RGB\", (size * len(images), size))\n",
    "    for i, im in enumerate(images):\n",
    "        output_im.paste(im.resize((size, size)), (i * size, 0))\n",
    "    return output_im"
   ]
  },
  {
   "cell_type": "markdown",
   "id": "bcbecc82-2a99-4ff1-a779-44c68fa2d361",
   "metadata": {},
   "source": [
    "https://huggingface.co/settings/tokens"
   ]
  },
  {
   "cell_type": "code",
   "execution_count": 4,
   "id": "2c016405-70b2-4e3b-abfc-346615aa658a",
   "metadata": {},
   "outputs": [
    {
     "data": {
      "application/vnd.jupyter.widget-view+json": {
       "model_id": "d8816b198e9b4119a0b7b8f2e4b4f7f0",
       "version_major": 2,
       "version_minor": 0
      },
      "text/plain": [
       "VBox(children=(HTML(value='<center> <img\\nsrc=https://huggingface.co/front/assets/huggingface_logo-noborder.sv…"
      ]
     },
     "metadata": {},
     "output_type": "display_data"
    }
   ],
   "source": [
    "notebook_login()"
   ]
  },
  {
   "cell_type": "code",
   "execution_count": 39,
   "id": "7e76d861-b9cb-4969-a16f-93dd606bcbcf",
   "metadata": {},
   "outputs": [
    {
     "data": {
      "text/plain": [
       "1453"
      ]
     },
     "execution_count": 39,
     "metadata": {},
     "output_type": "execute_result"
    }
   ],
   "source": [
    "len(list(Path('./pokemon-icons').glob('*.png')))"
   ]
  },
  {
   "cell_type": "code",
   "execution_count": null,
   "id": "33c44ba5-1bb1-4a1c-be8c-4221a2ce83b2",
   "metadata": {},
   "outputs": [],
   "source": [
    "# dataset = load_dataset('huggan/smithsonian_butterflies_subset')\n",
    "# 'daspartho/bored-ape'\n",
    "dataset = load_dataset(\"imagefolder\", data_dir=\"./pokemon-icons-src\")"
   ]
  },
  {
   "cell_type": "code",
   "execution_count": 19,
   "id": "33560c9c-372c-4163-8e9f-cd9230e84fd4",
   "metadata": {},
   "outputs": [],
   "source": [
    "!cp -r ./pokemon-icons/_icons/PNG/3x ./diffusion-models-class/unit1/pokemon-icons-src"
   ]
  },
  {
   "cell_type": "code",
   "execution_count": 30,
   "id": "6f70aa08-c2f9-407c-8f09-4e1923a343b9",
   "metadata": {},
   "outputs": [
    {
     "data": {
      "text/plain": [
       "Dataset({\n",
       "    features: ['image'],\n",
       "    num_rows: 1453\n",
       "})"
      ]
     },
     "execution_count": 30,
     "metadata": {},
     "output_type": "execute_result"
    }
   ],
   "source": [
    "dataset['train']"
   ]
  },
  {
   "cell_type": "code",
   "execution_count": 40,
   "id": "37ca9228-b7eb-48bd-ac0a-f4b32f04fc8c",
   "metadata": {},
   "outputs": [],
   "source": [
    "PROJECT_NAME = \"sd-pokemon-icons\"\n",
    "MODEL_NAME = \"sd-pokemon-icons-64\""
   ]
  },
  {
   "cell_type": "code",
   "execution_count": null,
   "id": "955885db-4e76-4e07-b6a1-d1d38d8aa6d8",
   "metadata": {},
   "outputs": [],
   "source": [
    "!accelerate launch --mixed_precision=bf16 train_unconditional_v3.py \\\n",
    "    --project_name={PROJECT_NAME} \\\n",
    "    --ddpm_beta_schedule='squaredcos_cap_v2' \\\n",
    "    --dataset_name='./pokemon-icons' \\\n",
    "    --dataset_sample_size=1453 \\\n",
    "    --seed=2077 \\\n",
    "    --resolution=64 \\\n",
    "    --output_dir={MODEL_NAME} \\\n",
    "    --train_batch_size=64 \\\n",
    "    --eval_batch_size=4 \\\n",
    "    --num_epochs=50\\\n",
    "    --gradient_accumulation_steps=1 \\\n",
    "    --learning_rate=4e-4 \\\n",
    "    --lr_scheduler=\"cosine\" \\\n",
    "    --lr_warmup_steps=500 \\\n",
    "    --dataloader_num_workers=12 \\\n",
    "    --mixed_precision=\"bf16\""
   ]
  },
  {
   "cell_type": "code",
   "execution_count": null,
   "id": "3309ac92-b380-49c0-9961-c310dfad5680",
   "metadata": {},
   "outputs": [],
   "source": [
    "# ref: https://docs.wandb.ai/guides/track/advanced/resuming\n",
    "# ref: https://docs.wandb.ai/ref/python/artifact\n",
    "\n",
    "PROJECT_NAME = \"sd-pokemon-icons\"\n",
    "RUN_ID = '25xzgaap'\n",
    "MODEL_PATH = './sd-pokemon-icons-64'\n",
    "\n",
    "with wandb.init(project=PROJECT_NAME, id=RUN_ID, resume=True) as run:\n",
    "    artifact = wandb.Artifact(RUN_ID, type='model')\n",
    "    artifact.add_dir(MODEL_PATH)\n",
    "    run.log_artifact(artifact)"
   ]
  },
  {
   "cell_type": "code",
   "execution_count": null,
   "id": "dcb64d0f-8183-4f3b-ab9d-b20580dddf7f",
   "metadata": {},
   "outputs": [],
   "source": [
    "with wandb.init(project=PROJECT_NAME, id=RUN_ID, resume=True) as run:\n",
    "    artifact = wandb.use_artifact('matt24/sd-pokemon-icons/25xzgaap:v0', type='model')\n",
    "    artifact_dir = artifact.download()\n",
    "\n",
    "print(artifact_dir)"
   ]
  },
  {
   "cell_type": "code",
   "execution_count": 49,
   "id": "afe6ebc6-4ff7-4b77-a79e-3cc3bc690d0d",
   "metadata": {},
   "outputs": [],
   "source": [
    "ckpt = Path(artifact_dir)\n",
    "\n",
    "model = UNet2DModel.from_pretrained(pretrained_model_name_or_path=ckpt/'unet')\n",
    "noise_scheduler = DDPMScheduler.from_pretrained(pretrained_model_name_or_path=ckpt/'scheduler')\n",
    "pipeline = DDPMPipeline(unet=model, scheduler=noise_scheduler).to(device)"
   ]
  },
  {
   "cell_type": "code",
   "execution_count": null,
   "id": "5dbe9459-0df1-4ceb-a440-e61a2cc6ff63",
   "metadata": {},
   "outputs": [],
   "source": [
    "from PIL import Image\n",
    "generator = torch.Generator(device=pipeline.device).manual_seed(0)\n",
    "images = pipeline(batch_size=64, generator=generator).images\n",
    "make_grid(images, size=64)"
   ]
  },
  {
   "cell_type": "code",
   "execution_count": null,
   "id": "0900e851-9818-4ad4-9e3d-3ec1fa80ea24",
   "metadata": {},
   "outputs": [],
   "source": [
    "with wandb.init(project=PROJECT_NAME, id=RUN_ID, resume=True) as run:\n",
    "    run.log({\"Generated images\": [wandb.Image(image) for image in images]})"
   ]
  }
 ],
 "metadata": {
  "kernelspec": {
   "display_name": "Python 3 (ipykernel)",
   "language": "python",
   "name": "python3"
  },
  "language_info": {
   "codemirror_mode": {
    "name": "ipython",
    "version": 3
   },
   "file_extension": ".py",
   "mimetype": "text/x-python",
   "name": "python",
   "nbconvert_exporter": "python",
   "pygments_lexer": "ipython3",
   "version": "3.7.13"
  }
 },
 "nbformat": 4,
 "nbformat_minor": 5
}
