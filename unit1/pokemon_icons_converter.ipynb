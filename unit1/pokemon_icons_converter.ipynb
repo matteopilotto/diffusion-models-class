{
 "cells": [
  {
   "cell_type": "code",
   "execution_count": 10,
   "id": "3c593944-3859-478d-bd9f-a0508e5c24a0",
   "metadata": {},
   "outputs": [],
   "source": [
    "import torch\n",
    "from torchvision import transforms\n",
    "import PIL\n",
    "from pathlib import Path\n",
    "import os\n",
    "from tqdm"
   ]
  },
  {
   "cell_type": "code",
   "execution_count": 88,
   "id": "dd298f34-5341-49ed-b999-f12874b887c8",
   "metadata": {},
   "outputs": [],
   "source": [
    "img_dir_src = Path('./pokemon-icons/_icons/PNG/3x')"
   ]
  },
  {
   "cell_type": "code",
   "execution_count": 17,
   "id": "736672e9-ad73-4e85-b881-4025b1ca0919",
   "metadata": {},
   "outputs": [
    {
     "name": "stdout",
     "output_type": "stream",
     "text": [
      "/workspace\n"
     ]
    }
   ],
   "source": [
    "%cd /workspace"
   ]
  },
  {
   "cell_type": "code",
   "execution_count": 75,
   "id": "56464484-a2f9-412e-bd93-4d10329ae676",
   "metadata": {},
   "outputs": [
    {
     "data": {
      "image/png": "[encoded data removed]",
      "text/plain": [
       "<PIL.PngImagePlugin.PngImageFile image mode=RGBA size=96x96 at 0x7F4B13478990>"
      ]
     },
     "execution_count": 75,
     "metadata": {},
     "output_type": "execute_result"
    }
   ],
   "source": [
    "img_format = '.jpg'\n",
    "idx = -50\n",
    "img_list = list(img_path.glob('*.png'))\n",
    "img = PIL.Image.open(img_list[idx])\n",
    "img_name = img_list[idx].stem.split('@')[0] + img_format\n",
    "img_name\n",
    "img"
   ]
  },
  {
   "cell_type": "code",
   "execution_count": 84,
   "id": "605d6b9f-d310-4299-8b20-d4adda4fb59a",
   "metadata": {},
   "outputs": [
    {
     "data": {
      "text/plain": [
       "<generator object Path.glob at 0x7f4b10385c50>"
      ]
     },
     "execution_count": 84,
     "metadata": {},
     "output_type": "execute_result"
    }
   ],
   "source": [
    "img_paths"
   ]
  },
  {
   "cell_type": "code",
   "execution_count": 103,
   "id": "ec5d7c07-1f3c-4f96-b652-1d2ebe2cd88d",
   "metadata": {},
   "outputs": [],
   "source": [
    "dir_src = Path('./pokemon-icons/_icons/PNG/3x')\n",
    "dir_dst = Path('./diffusion-models-class/unit1/pokemon-icons')\n",
    "dir_dst.mkdir(exist_ok=True)\n",
    "img_format = '.png'\n",
    "img_paths = dir_src.glob('*.png')\n",
    "\n",
    "for img_path in img_paths:\n",
    "    img_name = img_path.stem.split('@')[0] + img_format\n",
    "    try:\n",
    "        img = PIL.Image.open(img_path).convert('RGBA')\n",
    "        img_rgb = PIL.Image.new(\"RGB\", img.size, (255, 255, 255))\n",
    "        img_rgb.paste(img, img)\n",
    "        img_rgb.save(dir_dst / img_name)\n",
    "    except:\n",
    "        print(img_path)"
   ]
  },
  {
   "cell_type": "code",
   "execution_count": 102,
   "id": "ff600f7c-baf1-41af-9168-c38ab592baf7",
   "metadata": {},
   "outputs": [],
   "source": [
    "!rm -rf ./diffusion-models-class/unit1/pokemon-icons"
   ]
  },
  {
   "cell_type": "code",
   "execution_count": 96,
   "id": "bdefc27d-36e1-418d-91b1-d0cf58191b42",
   "metadata": {},
   "outputs": [
    {
     "name": "stdout",
     "output_type": "stream",
     "text": [
      "/workspace\n"
     ]
    }
   ],
   "source": [
    "!pwd"
   ]
  },
  {
   "cell_type": "code",
   "execution_count": 99,
   "id": "827cd438-5f28-41de-aa6f-b1c211ec1011",
   "metadata": {},
   "outputs": [
    {
     "data": {
      "image/png": "[encoded data removed]",
      "text/plain": [
       "<PIL.Image.Image image mode=RGB size=96x96 at 0x7F4B103939D0>"
      ]
     },
     "execution_count": 99,
     "metadata": {},
     "output_type": "execute_result"
    }
   ],
   "source": [
    "img_path = './pokemon-icons/_icons/PNG/3x/011-metapod-shiny@3x.png'\n",
    "img = PIL.Image.open(img_path).convert('RGBA')\n",
    "img_rgb = PIL.Image.new(\"RGB\", img.size, (255, 255, 255))\n",
    "img_rgb.paste(img, img)\n",
    "img_rgb"
   ]
  },
  {
   "cell_type": "code",
   "execution_count": 74,
   "id": "f693d7dc-cc65-4515-910f-0b1a481a7548",
   "metadata": {},
   "outputs": [
    {
     "data": {
      "text/plain": [
       "tensor([[[1., 1., 1.,  ..., 1., 1., 1.],\n",
       "         [1., 1., 1.,  ..., 1., 1., 1.],\n",
       "         [1., 1., 1.,  ..., 1., 1., 1.],\n",
       "         ...,\n",
       "         [1., 1., 1.,  ..., 1., 1., 1.],\n",
       "         [1., 1., 1.,  ..., 1., 1., 1.],\n",
       "         [1., 1., 1.,  ..., 1., 1., 1.]],\n",
       "\n",
       "        [[1., 1., 1.,  ..., 1., 1., 1.],\n",
       "         [1., 1., 1.,  ..., 1., 1., 1.],\n",
       "         [1., 1., 1.,  ..., 1., 1., 1.],\n",
       "         ...,\n",
       "         [1., 1., 1.,  ..., 1., 1., 1.],\n",
       "         [1., 1., 1.,  ..., 1., 1., 1.],\n",
       "         [1., 1., 1.,  ..., 1., 1., 1.]],\n",
       "\n",
       "        [[1., 1., 1.,  ..., 1., 1., 1.],\n",
       "         [1., 1., 1.,  ..., 1., 1., 1.],\n",
       "         [1., 1., 1.,  ..., 1., 1., 1.],\n",
       "         ...,\n",
       "         [1., 1., 1.,  ..., 1., 1., 1.],\n",
       "         [1., 1., 1.,  ..., 1., 1., 1.],\n",
       "         [1., 1., 1.,  ..., 1., 1., 1.]]])"
      ]
     },
     "execution_count": 74,
     "metadata": {},
     "output_type": "execute_result"
    }
   ],
   "source": [
    "img_tensor = pil2tensor(img_rgb)\n",
    "img_tensor"
   ]
  },
  {
   "cell_type": "code",
   "execution_count": 29,
   "id": "e9dffd69-a8d3-4316-b628-abd4504f002d",
   "metadata": {},
   "outputs": [
    {
     "data": {
      "text/plain": [
       "(96, 96)"
      ]
     },
     "execution_count": 29,
     "metadata": {},
     "output_type": "execute_result"
    }
   ],
   "source": [
    "img.size"
   ]
  },
  {
   "cell_type": "code",
   "execution_count": 31,
   "id": "7311ee58-be39-4dae-aaca-ad6b3c65be7d",
   "metadata": {},
   "outputs": [
    {
     "data": {
      "text/plain": [
       "torch.Size([4, 96, 96])"
      ]
     },
     "execution_count": 31,
     "metadata": {},
     "output_type": "execute_result"
    }
   ],
   "source": [
    "pil2tensor = transforms.ToTensor()\n",
    "pil2tensor(img).shape"
   ]
  },
  {
   "cell_type": "code",
   "execution_count": 33,
   "id": "f9409035-31a2-40e1-b477-c62bc2c87ac1",
   "metadata": {},
   "outputs": [
    {
     "data": {
      "image/png": "[encoded data removed]",
      "text/plain": [
       "<PIL.Image.Image image mode=RGB size=96x96 at 0x7F4B1150D6D0>"
      ]
     },
     "execution_count": 33,
     "metadata": {},
     "output_type": "execute_result"
    }
   ],
   "source": [
    "tensor2pil = transforms.ToPILImage()\n",
    "tensor2pil(pil2tensor(img)[:3, :, :])"
   ]
  },
  {
   "cell_type": "code",
   "execution_count": 37,
   "id": "b80810e9-ef30-45f0-b496-56c74a4daf61",
   "metadata": {},
   "outputs": [],
   "source": [
    "pokemon_icons = Path('./pokemon_icons')\n",
    "pokemon_icons.mkdir()"
   ]
  },
  {
   "cell_type": "code",
   "execution_count": 46,
   "id": "580a08c6-99e6-46a4-8e2c-140a5a87dcc4",
   "metadata": {},
   "outputs": [],
   "source": [
    "img.save(pokemon_icons / (img_name + '.jpg'))"
   ]
  }
 ],
 "metadata": {
  "kernelspec": {
   "display_name": "Python 3 (ipykernel)",
   "language": "python",
   "name": "python3"
  },
  "language_info": {
   "codemirror_mode": {
    "name": "ipython",
    "version": 3
   },
   "file_extension": ".py",
   "mimetype": "text/x-python",
   "name": "python",
   "nbconvert_exporter": "python",
   "pygments_lexer": "ipython3",
   "version": "3.7.13"
  }
 },
 "nbformat": 4,
 "nbformat_minor": 5
}
