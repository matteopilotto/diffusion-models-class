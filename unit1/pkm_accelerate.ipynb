{
 "cells": [
  {
   "cell_type": "code",
   "execution_count": 1,
   "id": "1ee15e39-2311-4133-a562-6791844e4370",
   "metadata": {},
   "outputs": [],
   "source": [
    "!pip install -qq -U diffusers datasets transformers accelerate ftfy\n",
    "!pip install -qq wandb\n",
    "!pip install -qq torchinfo\n",
    "!pip install -qq matplotlib"
   ]
  },
  {
   "cell_type": "markdown",
   "id": "bcbecc82-2a99-4ff1-a779-44c68fa2d361",
   "metadata": {},
   "source": [
    "https://huggingface.co/settings/tokens"
   ]
  },
  {
   "cell_type": "code",
   "execution_count": 2,
   "id": "2c016405-70b2-4e3b-abfc-346615aa658a",
   "metadata": {},
   "outputs": [
    {
     "data": {
      "application/vnd.jupyter.widget-view+json": {
       "model_id": "dbf48a8f26fb4b4fb168aaee77237ec6",
       "version_major": 2,
       "version_minor": 0
      },
      "text/plain": [
       "VBox(children=(HTML(value='<center> <img\\nsrc=https://huggingface.co/front/assets/huggingface_logo-noborder.sv…"
      ]
     },
     "metadata": {},
     "output_type": "display_data"
    }
   ],
   "source": [
    "from huggingface_hub import notebook_login\n",
    "\n",
    "notebook_login()"
   ]
  },
  {
   "cell_type": "code",
   "execution_count": 3,
   "id": "33c44ba5-1bb1-4a1c-be8c-4221a2ce83b2",
   "metadata": {},
   "outputs": [],
   "source": [
    "from datasets import load_dataset"
   ]
  },
  {
   "cell_type": "code",
   "execution_count": null,
   "id": "56e16d0a-53dc-4e76-96f8-be873c9a03f4",
   "metadata": {},
   "outputs": [],
   "source": [
    "pkm_ds = load_dataset('huggan/pokemon')\n",
    "# ape_ds = load_dataset('daspartho/bored-ape')"
   ]
  },
  {
   "cell_type": "code",
   "execution_count": 5,
   "id": "6f70aa08-c2f9-407c-8f09-4e1923a343b9",
   "metadata": {},
   "outputs": [
    {
     "data": {
      "text/plain": [
       "DatasetDict({\n",
       "    train: Dataset({\n",
       "        features: ['image'],\n",
       "        num_rows: 7357\n",
       "    })\n",
       "})"
      ]
     },
     "execution_count": 5,
     "metadata": {},
     "output_type": "execute_result"
    }
   ],
   "source": [
    "pkm_ds"
   ]
  },
  {
   "cell_type": "code",
   "execution_count": null,
   "id": "a5fa58b4-8f1f-4aea-a291-6725fd08a668",
   "metadata": {},
   "outputs": [],
   "source": [
    "seed = 42\n",
    "sample_size = 1000\n",
    "\n",
    "pkm_ds_sample = pkm_ds['train'].shuffle(seed=seed).select(range(sample_size))\n",
    "# ape_ds_sample = ape_ds['train'].shuffle(seed=seed).select(range(sample_size))"
   ]
  },
  {
   "cell_type": "code",
   "execution_count": null,
   "id": "10608239-f6ce-4def-b5c3-ce0a2820aadb",
   "metadata": {},
   "outputs": [],
   "source": [
    "pkm_ds_sample[5]['image'].resize((256, 256))"
   ]
  },
  {
   "cell_type": "code",
   "execution_count": 6,
   "id": "37ca9228-b7eb-48bd-ac0a-f4b32f04fc8c",
   "metadata": {},
   "outputs": [],
   "source": [
    "PROJECT_NAME = \"sd-pokemon\"\n",
    "MODEL_NAME = \"sd-pokemon-64\""
   ]
  },
  {
   "cell_type": "code",
   "execution_count": 19,
   "id": "955885db-4e76-4e07-b6a1-d1d38d8aa6d8",
   "metadata": {},
   "outputs": [
    {
     "name": "stdout",
     "output_type": "stream",
     "text": [
      "The following values were not passed to `accelerate launch` and had defaults used instead:\n",
      "\t`--num_processes` was set to a value of `1`\n",
      "\t`--num_machines` was set to a value of `1`\n",
      "\t`--dynamo_backend` was set to a value of `'no'`\n",
      "To avoid this warning pass in values for each of the problematic parameters or run `accelerate config`.\n",
      "Using custom data configuration huggan--pokemon-8faf296a1351d650\n",
      "Found cached dataset parquet (/root/.cache/huggingface/datasets/huggan___parquet/huggan--pokemon-8faf296a1351d650/0.0.0/2a3b91fbd88a2c90d1dbbb32b460cf621d31bd5b05b934492fdef7d8d6f236ec)\n",
      "Loading cached shuffled indices for dataset at /root/.cache/huggingface/datasets/huggan___parquet/huggan--pokemon-8faf296a1351d650/0.0.0/2a3b91fbd88a2c90d1dbbb32b460cf621d31bd5b05b934492fdef7d8d6f236ec/cache-1713741c4c5cdf2b.arrow\n",
      "\u001b[34m\u001b[1mwandb\u001b[0m: Currently logged in as: \u001b[33mmatt24\u001b[0m. Use \u001b[1m`wandb login --relogin`\u001b[0m to force relogin\n",
      "\u001b[34m\u001b[1mwandb\u001b[0m: Tracking run with wandb version 0.13.5\n",
      "\u001b[34m\u001b[1mwandb\u001b[0m: Run data is saved locally in \u001b[35m\u001b[1m/workspace/diffusion-models-class/unit1/wandb/run-20221204_222515-18lx1t9y\u001b[0m\n",
      "\u001b[34m\u001b[1mwandb\u001b[0m: Run \u001b[1m`wandb offline`\u001b[0m to turn off syncing.\n",
      "\u001b[34m\u001b[1mwandb\u001b[0m: Syncing run \u001b[33mrobust-armadillo-23\u001b[0m\n",
      "\u001b[34m\u001b[1mwandb\u001b[0m: ⭐️ View project at \u001b[34m\u001b[4mhttps://wandb.ai/matt24/sd-pokemon\u001b[0m\n",
      "\u001b[34m\u001b[1mwandb\u001b[0m: 🚀 View run at \u001b[34m\u001b[4mhttps://wandb.ai/matt24/sd-pokemon/runs/18lx1t9y\u001b[0m\n",
      "Epoch 0: 100%|█| 154/154 [02:21<00:00,  1.09it/s, ema_decay=0.977, loss=0.0861, \n",
      "100%|███████████████████████████████████████| 1000/1000 [01:02<00:00, 15.97it/s]\n",
      "Epoch 1: 100%|█| 154/154 [02:24<00:00,  1.07it/s, ema_decay=0.986, loss=0.045, l\n",
      "Epoch 2: 100%|█| 154/154 [02:23<00:00,  1.07it/s, ema_decay=0.99, loss=0.0424, l\n",
      "Epoch 3:  55%|▌| 85/154 [01:21<01:01,  1.12it/s, ema_decay=0.991, loss=0.0447, l^C\n"
     ]
    }
   ],
   "source": [
    "!accelerate launch --mixed_precision=bf16 train_unconditional_pokemon.py \\\n",
    "    --project_name={PROJECT_NAME} \\\n",
    "    --ddpm_beta_schedule='squaredcos_cap_v2' \\\n",
    "    --dataset_name='huggan/pokemon' \\\n",
    "    --dataset_sample_size=7357 \\\n",
    "    --seed=2077 \\\n",
    "    --resolution=64 \\\n",
    "    --output_dir={MODEL_NAME} \\\n",
    "    --train_batch_size=48 \\\n",
    "    --eval_batch_size=4 \\\n",
    "    --num_epochs=20 \\\n",
    "    --gradient_accumulation_steps=1 \\\n",
    "    --learning_rate=4e-4 \\\n",
    "    --lr_scheduler=\"cosine\" \\\n",
    "    --lr_warmup_steps=500 \\\n",
    "    --dataloader_num_workers=12 \\\n",
    "    --mixed_precision=\"bf16\""
   ]
  },
  {
   "cell_type": "code",
   "execution_count": null,
   "id": "3309ac92-b380-49c0-9961-c310dfad5680",
   "metadata": {},
   "outputs": [],
   "source": []
  },
  {
   "cell_type": "code",
   "execution_count": null,
   "id": "5a0ee3ba-6c17-4f29-b3fc-c2a9dca0d60d",
   "metadata": {},
   "outputs": [],
   "source": []
  },
  {
   "cell_type": "code",
   "execution_count": null,
   "id": "8baa6c63-79ee-4828-8a59-b7c4e97a7d6f",
   "metadata": {},
   "outputs": [],
   "source": []
  }
 ],
 "metadata": {
  "kernelspec": {
   "display_name": "Python 3 (ipykernel)",
   "language": "python",
   "name": "python3"
  },
  "language_info": {
   "codemirror_mode": {
    "name": "ipython",
    "version": 3
   },
   "file_extension": ".py",
   "mimetype": "text/x-python",
   "name": "python",
   "nbconvert_exporter": "python",
   "pygments_lexer": "ipython3",
   "version": "3.7.13"
  }
 },
 "nbformat": 4,
 "nbformat_minor": 5
}
