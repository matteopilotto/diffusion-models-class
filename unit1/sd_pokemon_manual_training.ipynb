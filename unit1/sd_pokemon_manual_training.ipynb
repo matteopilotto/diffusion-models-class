{
 "cells": [
  {
   "cell_type": "markdown",
   "id": "29a46623-08a5-43fb-b1d0-4db32a14e43b",
   "metadata": {},
   "source": [
    "### Setup"
   ]
  },
  {
   "cell_type": "code",
   "execution_count": null,
   "id": "4098da0d-60af-4581-89f9-bc5ed56fdb53",
   "metadata": {},
   "outputs": [],
   "source": [
    "!pip install -qq -U diffusers datasets transformers accelerate ftfy\n",
    "!pip install wandb\n",
    "!pip install matplotlib"
   ]
  },
  {
   "cell_type": "markdown",
   "id": "eb7376af-3a3a-4cde-ab40-36b5d06ff226",
   "metadata": {},
   "source": [
    "https://huggingface.co/settings/tokens"
   ]
  },
  {
   "cell_type": "code",
   "execution_count": 6,
   "id": "00d80629-ae29-47c6-90a2-1b8f2af49897",
   "metadata": {},
   "outputs": [
    {
     "data": {
      "application/vnd.jupyter.widget-view+json": {
       "model_id": "3702bb500aa24238b153e86e19e9357f",
       "version_major": 2,
       "version_minor": 0
      },
      "text/plain": [
       "VBox(children=(HTML(value='<center> <img\\nsrc=https://huggingface.co/front/assets/huggingface_logo-noborder.sv…"
      ]
     },
     "metadata": {},
     "output_type": "display_data"
    }
   ],
   "source": [
    "from huggingface_hub import notebook_login\n",
    "notebook_login()"
   ]
  },
  {
   "cell_type": "code",
   "execution_count": 7,
   "id": "db56d879-1612-4814-903f-693cf1bbcb39",
   "metadata": {},
   "outputs": [],
   "source": [
    "%%capture\n",
    "!sudo apt -qq install git-lfs\n",
    "!git config --global credential.helper store"
   ]
  },
  {
   "cell_type": "code",
   "execution_count": 8,
   "id": "002160e6-8c6b-41f0-b2d0-c648906e8d74",
   "metadata": {},
   "outputs": [],
   "source": [
    "import numpy as np\n",
    "import torch\n",
    "import torch.nn.functional as F\n",
    "from matplotlib import pyplot as plt\n",
    "import PIL\n",
    "from PIL import Image\n",
    "from tqdm.auto import tqdm\n",
    "\n",
    "from typing import List, Dict\n",
    "import torchvision\n",
    "from datasets import load_dataset\n",
    "from torchvision import transforms\n",
    "from torch.utils.data import DataLoader\n",
    "\n",
    "from diffusers import DDPMScheduler, UNet2DModel\n",
    "\n",
    "def show_images(x: torch.Tensor):\n",
    "    x = x * 0.5 + 0.5\n",
    "    grid = torchvision.utils.make_grid(x)\n",
    "    grid_im = grid.detach().cpu().permute(1, 2, 0).clip(0, 1) * 255\n",
    "    grid_im = Image.fromarray(np.array(grid_im).astype(np.uint8))\n",
    "    \n",
    "    return grid_im\n",
    "\n",
    "def make_grid(images: PIL.Image, size=64):\n",
    "    output_im = Image.new('RGB', (size * len(images), size))\n",
    "    for i, im in enumerate(images):\n",
    "        output_im.paste(im.resize((size, size)), (i * size, 0))\n",
    "    \n",
    "    return output_im\n",
    "\n",
    "device = torch.device('cuda' if torch.cuda.is_available() else 'cpu')"
   ]
  },
  {
   "cell_type": "markdown",
   "id": "ba47dd0c-9c0c-43ab-8720-2bacd72fe6e1",
   "metadata": {},
   "source": [
    "### Dataset"
   ]
  },
  {
   "cell_type": "code",
   "execution_count": null,
   "id": "6e3b8c51-7709-46e9-a098-f1e100071a43",
   "metadata": {},
   "outputs": [],
   "source": [
    "dataset = load_dataset('huggan/smithsonian_butterflies_subset', split='train')\n",
    "image_size = 32\n",
    "batch_size = 128\n",
    "\n",
    "preprocess = transforms.Compose([\n",
    "    transforms.Resize((image_size, image_size)),\n",
    "    transforms.RandomHorizontalFlip(),\n",
    "    transforms.ToTensor(),\n",
    "    transforms.Normalize([0.5], [0.5]),\n",
    "    ])\n",
    "\n",
    "def transform(examples: Dict[str, List]):\n",
    "    images = [preprocess(img.convert('RGB')) for img in examples['image']]\n",
    "    \n",
    "    return {'images': images}\n",
    "\n",
    "dataset.set_transform(transform)\n",
    "\n",
    "train_dataloader = DataLoader(dataset, batch_size=batch_size, shuffle=True)"
   ]
  },
  {
   "cell_type": "code",
   "execution_count": null,
   "id": "eeb46987-f8da-4599-aa57-8865c7e7d40a",
   "metadata": {},
   "outputs": [],
   "source": [
    "batch = next(iter(train_dataloader))['images'][:8].to(device)\n",
    "batch.shape"
   ]
  },
  {
   "cell_type": "markdown",
   "id": "f7ca6d80-aab0-4f53-a6ac-4319fad4bb63",
   "metadata": {},
   "source": [
    "### Scheduler"
   ]
  },
  {
   "cell_type": "code",
   "execution_count": null,
   "id": "e7522a5c-2d62-4204-a94d-7566dc3721f9",
   "metadata": {},
   "outputs": [],
   "source": [
    "from diffusers import DDPMScheduler\n",
    "\n",
    "noise_scheduler = DDPMScheduler(num_train_timesteps=1000)"
   ]
  },
  {
   "cell_type": "code",
   "execution_count": null,
   "id": "5472efb1-6f3b-4bbd-a137-c27632890699",
   "metadata": {},
   "outputs": [],
   "source": [
    "plt.plot(noise_scheduler.alphas_cumprod.cpu() ** 0.5, label='% of input')\n",
    "plt.plot((1 - noise_scheduler.alphas_cumprod.cpu()) ** 0.5, label='% of noise')\n",
    "plt.legend()\n",
    "plt.show()"
   ]
  },
  {
   "cell_type": "code",
   "execution_count": null,
   "id": "cd675e54-6855-4bd9-8377-83574273ca81",
   "metadata": {},
   "outputs": [],
   "source": [
    "noise_scheduler = DDPMScheduler(num_train_timesteps=1000, beta_schedule='squaredcos_cap_v2')\n",
    "plt.plot(noise_scheduler.alphas_cumprod.cpu() ** 0.5, label='% of input')\n",
    "plt.plot((1 - noise_scheduler.alphas_cumprod.cpu()) ** 0.5, label='% of noise')\n",
    "plt.legend()\n",
    "plt.show()"
   ]
  },
  {
   "cell_type": "code",
   "execution_count": null,
   "id": "716a63c7-ca02-43bb-a2e4-98c41f3652e3",
   "metadata": {},
   "outputs": [],
   "source": [
    "noise_scheduler = DDPMScheduler(num_train_timesteps=1000, beta_start=1e-3, beta_end=4e-3)\n",
    "plt.plot(noise_scheduler.alphas_cumprod.cpu() ** 0.5, label='% of input')\n",
    "plt.plot((1 - noise_scheduler.alphas_cumprod.cpu()) ** 0.5, label='% of noise')\n",
    "plt.legend()\n",
    "plt.show()"
   ]
  },
  {
   "cell_type": "code",
   "execution_count": null,
   "id": "a517220b-97a8-44f8-be7c-d620e6d6343b",
   "metadata": {},
   "outputs": [],
   "source": [
    "timesteps = torch.linspace(0, 999, 8).long().to(device)\n",
    "noise = torch.randn_like(batch)\n",
    "noisy_batch = noise_scheduler.add_noise(batch, noise, timesteps).to(device)\n",
    "\n",
    "show_images(noisy_batch).resize((8 * 128, 128))"
   ]
  },
  {
   "cell_type": "markdown",
   "id": "95f6f6c9-117b-42df-9610-f59dcf457b30",
   "metadata": {},
   "source": [
    "### UNet"
   ]
  },
  {
   "cell_type": "code",
   "execution_count": null,
   "id": "bc15ab80-c526-426d-a3a2-8e7c32fc6418",
   "metadata": {},
   "outputs": [],
   "source": [
    "from diffusers import UNet2DModel\n",
    "\n",
    "model = UNet2DModel(\n",
    "    sample_size=image_size,\n",
    "    in_channels=3,\n",
    "    out_channels=3,\n",
    "    layers_per_block=2,\n",
    "    block_out_channels=(64, 128, 128, 256),\n",
    "    down_block_types=(\n",
    "        'DownBlock2D',\n",
    "        'DownBlock2D',\n",
    "        'AttnDownBlock2D',\n",
    "        'AttnDownBlock2D',\n",
    "    ),\n",
    "    up_block_types=(\n",
    "        'AttnUpBlock2D',\n",
    "        'AttnUpBlock2D',\n",
    "        'UpBlock2D',\n",
    "        'UpBlock2D',\n",
    "    ),\n",
    ")\n",
    "\n",
    "model = model.to(device)"
   ]
  },
  {
   "cell_type": "code",
   "execution_count": null,
   "id": "707af7a6-e3e7-4a2c-9837-69aff9356b39",
   "metadata": {},
   "outputs": [],
   "source": [
    "model.eval()\n",
    "with torch.inference_mode():\n",
    "    model_preds = model(sample=noisy_batch, timestep=timesteps).sample\n",
    "\n",
    "model_preds.shape"
   ]
  },
  {
   "cell_type": "code",
   "execution_count": null,
   "id": "9797933d-9783-495a-85bd-521d97192b81",
   "metadata": {},
   "outputs": [],
   "source": [
    "noise_scheduler = DDPMScheduler(num_train_timesteps=1000, beta_schedule='squaredcos_cap_v2')\n",
    "\n",
    "model.train()\n",
    "\n",
    "optimizer = torch.optim.AdamW(params=model.parameters(), lr=4e-4)\n",
    "\n",
    "losses = []\n",
    "\n",
    "epochs = 30\n",
    "for epoch in tqdm(range(epochs), desc='Training progress'):\n",
    "    for step, batch in enumerate(tqdm(train_dataloader, leave=False, desc=f'Epoch {epoch+1} progress')):\n",
    "        images = batch['images'].to(device)\n",
    "        noise = torch.randn_like(images).to(device)\n",
    "        batch_size = images.shape[0]\n",
    "        \n",
    "        timesteps = torch.randint(low=0, high=noise_scheduler.num_train_timesteps, size=(batch_size,), device=device).long()\n",
    "        \n",
    "        noisy_images = noise_scheduler.add_noise(images, noise, timesteps)\n",
    "        \n",
    "        model_preds = model(sample=noisy_images, timestep=timesteps, return_dict=False)[0]\n",
    "        \n",
    "        loss = F.mse_loss(input=model_preds, target=noise)\n",
    "        optimizer.zero_grad()\n",
    "        loss.backward()\n",
    "        losses.append(loss.item())\n",
    "        optimizer.step()\n",
    "    \n",
    "    if (epoch+1) % 5 == 0:\n",
    "        loss_last_epoch = sum(losses[-len(train_dataloader): ]) / len(train_dataloader)\n",
    "        print(f'Epoch: {epoch+1} | Loss: {loss_last_epoch}')"
   ]
  },
  {
   "cell_type": "code",
   "execution_count": null,
   "id": "6bddf0d1-0fdc-48b9-bd5d-e4c9e310319e",
   "metadata": {},
   "outputs": [],
   "source": [
    "fig, axs = plt.subplots(1, 2, figsize=(12, 4))\n",
    "axs[0].plot(losses)\n",
    "axs[1].plot(np.log(losses))\n",
    "plt.show()"
   ]
  },
  {
   "cell_type": "markdown",
   "id": "543bf856-b828-4307-8aad-518b71d64bb9",
   "metadata": {},
   "source": [
    "### Generate images (Pipeline)"
   ]
  },
  {
   "cell_type": "code",
   "execution_count": null,
   "id": "b88e0d0e-592a-4af9-bc9a-249b31eb68b5",
   "metadata": {},
   "outputs": [],
   "source": [
    "from diffusers import DDPMPipeline\n",
    "\n",
    "pipeline = DDPMPipeline(unet=model, scheduler=noise_scheduler)"
   ]
  },
  {
   "cell_type": "code",
   "execution_count": null,
   "id": "3e93ca67-87b5-4833-81be-661331f4e8e1",
   "metadata": {},
   "outputs": [],
   "source": [
    "pipe_output = pipeline()"
   ]
  },
  {
   "cell_type": "code",
   "execution_count": null,
   "id": "dba31540-5a99-4999-8cfd-803c26c1d98a",
   "metadata": {},
   "outputs": [],
   "source": [
    "pipe_output.images[0]"
   ]
  },
  {
   "cell_type": "code",
   "execution_count": null,
   "id": "d9b2418c-cd86-4a15-be2c-ca4aedfe07a5",
   "metadata": {},
   "outputs": [],
   "source": [
    "pipeline.save_pretrained('butterflies')"
   ]
  },
  {
   "cell_type": "markdown",
   "id": "bd294c1c-fe10-4f06-b305-54a9e73fce9f",
   "metadata": {},
   "source": [
    "### Generate images (Sampling loop)"
   ]
  },
  {
   "cell_type": "code",
   "execution_count": null,
   "id": "3dd2bed1-839e-46bc-8bab-3f037c3c0974",
   "metadata": {},
   "outputs": [],
   "source": [
    "sample = torch.randn(8, 3, 32, 32).to(device)\n",
    "model.eval()\n",
    "\n",
    "for i, ts in enumerate(tqdm(noise_scheduler.timesteps)):\n",
    "    with torch.inference_mode():\n",
    "        residual = model(sample=sample, timestep=ts).sample\n",
    "    \n",
    "    sample = noise_scheduler.step(residual, ts, sample).prev_sample"
   ]
  },
  {
   "cell_type": "code",
   "execution_count": null,
   "id": "90b018b0-2f83-4324-8c4f-68fe59c3c2a6",
   "metadata": {},
   "outputs": [],
   "source": [
    "show_images(sample)"
   ]
  },
  {
   "cell_type": "markdown",
   "id": "eeb0d093-4810-4268-b3a1-abc56d9cbe51",
   "metadata": {},
   "source": [
    "## Pokemon"
   ]
  },
  {
   "cell_type": "markdown",
   "id": "23af711b-d53a-41e3-88f5-64c9f3ac95f2",
   "metadata": {},
   "source": [
    "#### Dataset"
   ]
  },
  {
   "cell_type": "code",
   "execution_count": 9,
   "id": "1bbf9c53-005d-4f13-ba8c-0e914d647c50",
   "metadata": {},
   "outputs": [
    {
     "data": {
      "application/vnd.jupyter.widget-view+json": {
       "model_id": "32021947f6dc4898a5dab8ac7594837f",
       "version_major": 2,
       "version_minor": 0
      },
      "text/plain": [
       "Downloading readme:   0%|          | 0.00/425 [00:00<?, ?B/s]"
      ]
     },
     "metadata": {},
     "output_type": "display_data"
    },
    {
     "name": "stderr",
     "output_type": "stream",
     "text": [
      "Using custom data configuration matteopilotto--pokemon_cute-1151300529356769\n"
     ]
    },
    {
     "name": "stdout",
     "output_type": "stream",
     "text": [
      "Downloading and preparing dataset None/None to /root/.cache/huggingface/datasets/matteopilotto___parquet/matteopilotto--pokemon_cute-1151300529356769/0.0.0/2a3b91fbd88a2c90d1dbbb32b460cf621d31bd5b05b934492fdef7d8d6f236ec...\n"
     ]
    },
    {
     "data": {
      "application/vnd.jupyter.widget-view+json": {
       "model_id": "13c865c2abb241d78dcff01f092a9bfb",
       "version_major": 2,
       "version_minor": 0
      },
      "text/plain": [
       "Downloading data files:   0%|          | 0/1 [00:00<?, ?it/s]"
      ]
     },
     "metadata": {},
     "output_type": "display_data"
    },
    {
     "data": {
      "application/vnd.jupyter.widget-view+json": {
       "model_id": "b81e49f749034e20b8d4ffb4af04c813",
       "version_major": 2,
       "version_minor": 0
      },
      "text/plain": [
       "Downloading data:   0%|          | 0.00/6.20M [00:00<?, ?B/s]"
      ]
     },
     "metadata": {},
     "output_type": "display_data"
    },
    {
     "data": {
      "application/vnd.jupyter.widget-view+json": {
       "model_id": "decb9088a76b4f478e471223999d12ee",
       "version_major": 2,
       "version_minor": 0
      },
      "text/plain": [
       "Extracting data files:   0%|          | 0/1 [00:00<?, ?it/s]"
      ]
     },
     "metadata": {},
     "output_type": "display_data"
    },
    {
     "data": {
      "application/vnd.jupyter.widget-view+json": {
       "model_id": "",
       "version_major": 2,
       "version_minor": 0
      },
      "text/plain": [
       "Generating train split:   0%|          | 0/1453 [00:00<?, ? examples/s]"
      ]
     },
     "metadata": {},
     "output_type": "display_data"
    },
    {
     "name": "stdout",
     "output_type": "stream",
     "text": [
      "Dataset parquet downloaded and prepared to /root/.cache/huggingface/datasets/matteopilotto___parquet/matteopilotto--pokemon_cute-1151300529356769/0.0.0/2a3b91fbd88a2c90d1dbbb32b460cf621d31bd5b05b934492fdef7d8d6f236ec. Subsequent calls will reuse this data.\n"
     ]
    }
   ],
   "source": [
    "dataset = load_dataset('matteopilotto/pokemon_cute', split='train')"
   ]
  },
  {
   "cell_type": "code",
   "execution_count": 10,
   "id": "ba6e8e0c-7ddb-44f0-87e9-27eac4e124fd",
   "metadata": {},
   "outputs": [
    {
     "data": {
      "text/plain": [
       "Dataset({\n",
       "    features: ['image', 'label'],\n",
       "    num_rows: 1453\n",
       "})"
      ]
     },
     "execution_count": 10,
     "metadata": {},
     "output_type": "execute_result"
    }
   ],
   "source": [
    "dataset"
   ]
  },
  {
   "cell_type": "code",
   "execution_count": 11,
   "id": "3372c4cd-2305-44b1-b6cf-1bcd4c782ba9",
   "metadata": {},
   "outputs": [
    {
     "data": {
      "image/png": "[encoded data removed]",
      "text/plain": [
       "<PIL.PngImagePlugin.PngImageFile image mode=RGB size=96x96 at 0x7F444302BF90>"
      ]
     },
     "execution_count": 11,
     "metadata": {},
     "output_type": "execute_result"
    }
   ],
   "source": [
    "dataset[0]['image']"
   ]
  },
  {
   "cell_type": "code",
   "execution_count": 12,
   "id": "158c704c-db80-4054-8bef-b5670a4573ff",
   "metadata": {},
   "outputs": [],
   "source": [
    "image_size = 64\n",
    "batch_size = 64\n",
    "\n",
    "preprocess = transforms.Compose([\n",
    "    transforms.Resize((image_size, image_size)),\n",
    "    transforms.RandomHorizontalFlip(),\n",
    "    transforms.ToTensor(),\n",
    "    transforms.Normalize([0.5], [0.5])\n",
    "])\n",
    "\n",
    "def preprocess_fn(examples: Dict[str, List]):\n",
    "    images = [preprocess(img.convert('RGB')) for img in examples['image']]\n",
    "    \n",
    "    return {'images': images}\n",
    "\n",
    "dataset.set_transform(preprocess_fn)\n",
    "\n",
    "train_dataloader = DataLoader(dataset, batch_size=batch_size, shuffle=True)"
   ]
  },
  {
   "cell_type": "code",
   "execution_count": 13,
   "id": "dc7d2708-64fe-4286-b7ba-a3491d797bfd",
   "metadata": {},
   "outputs": [
    {
     "data": {
      "text/plain": [
       "torch.Size([64, 3, 64, 64])"
      ]
     },
     "execution_count": 13,
     "metadata": {},
     "output_type": "execute_result"
    }
   ],
   "source": [
    "batch = next(iter(train_dataloader))['images']\n",
    "batch.shape"
   ]
  },
  {
   "cell_type": "code",
   "execution_count": 14,
   "id": "d1e84791-dc9b-408d-98e0-742c515c5196",
   "metadata": {},
   "outputs": [],
   "source": [
    "tensor2pil = transforms.ToPILImage()"
   ]
  },
  {
   "cell_type": "code",
   "execution_count": 15,
   "id": "fae7eb8a-1508-41f8-bcec-4419c97fa2a0",
   "metadata": {},
   "outputs": [
    {
     "data": {
      "image/png": "[encoded data removed]",
      "text/plain": [
       "<PIL.Image.Image image mode=RGB size=64x64 at 0x7F444A606510>"
      ]
     },
     "execution_count": 15,
     "metadata": {},
     "output_type": "execute_result"
    }
   ],
   "source": [
    "tensor2pil(batch[1] * 0.5 + 0.5)"
   ]
  },
  {
   "cell_type": "markdown",
   "id": "92cab7f2-c16c-4c34-95c8-a2ef3296c310",
   "metadata": {},
   "source": [
    "#### Scheduler"
   ]
  },
  {
   "cell_type": "code",
   "execution_count": 16,
   "id": "b60c309e-16c0-40e2-8250-10bfa0ce1baf",
   "metadata": {},
   "outputs": [],
   "source": [
    "noise_scheduler = DDPMScheduler(num_train_timesteps=1000, beta_schedule='squaredcos_cap_v2')"
   ]
  },
  {
   "cell_type": "code",
   "execution_count": 17,
   "id": "8f2534b3-c3fe-4963-acfa-94de04d52ad8",
   "metadata": {},
   "outputs": [],
   "source": [
    "num_timesteps = 8\n",
    "image = batch[0]\n",
    "image_expanded = image.expand(num_timesteps, *image.shape)\n",
    "noise = torch.randn_like(image_expanded)\n",
    "timesteps = torch.linspace(0, noise_scheduler.num_train_timesteps-1, steps=num_timesteps).long()\n",
    "noisy_image_expanded = noise_scheduler.add_noise(image_expanded, noise, timesteps)"
   ]
  },
  {
   "cell_type": "code",
   "execution_count": 18,
   "id": "abaf4751-844f-438e-b71a-bf9b3065d427",
   "metadata": {},
   "outputs": [
    {
     "data": {
      "image/png": "[encoded data removed]",
      "text/plain": [
       "<PIL.Image.Image image mode=RGB size=64x64 at 0x7F4419EE3310>"
      ]
     },
     "metadata": {},
     "output_type": "display_data"
    },
    {
     "data": {
      "image/png": "[encoded data removed]",
      "text/plain": [
       "<PIL.Image.Image image mode=RGB size=64x64 at 0x7F4419EE34D0>"
      ]
     },
     "metadata": {},
     "output_type": "display_data"
    },
    {
     "data": {
      "image/png": "[encoded data removed]",
      "text/plain": [
       "<PIL.Image.Image image mode=RGB size=64x64 at 0x7F4419EE3310>"
      ]
     },
     "metadata": {},
     "output_type": "display_data"
    },
    {
     "data": {
      "image/png": "[encoded data removed]",
      "text/plain": [
       "<PIL.Image.Image image mode=RGB size=64x64 at 0x7F4419EE3550>"
      ]
     },
     "metadata": {},
     "output_type": "display_data"
    },
    {
     "data": {
      "image/png": "[encoded data removed]",
      "text/plain": [
       "<PIL.Image.Image image mode=RGB size=64x64 at 0x7F4419EE34D0>"
      ]
     },
     "metadata": {},
     "output_type": "display_data"
    },
    {
     "data": {
      "image/png": "[encoded data removed]",
      "text/plain": [
       "<PIL.Image.Image image mode=RGB size=64x64 at 0x7F4419EE3310>"
      ]
     },
     "metadata": {},
     "output_type": "display_data"
    },
    {
     "data": {
      "image/png": "[encoded data removed]",
      "text/plain": [
       "<PIL.Image.Image image mode=RGB size=64x64 at 0x7F4419EE3550>"
      ]
     },
     "metadata": {},
     "output_type": "display_data"
    },
    {
     "data": {
      "image/png": "[encoded data removed]",
      "text/plain": [
       "<PIL.Image.Image image mode=RGB size=64x64 at 0x7F4419EE34D0>"
      ]
     },
     "metadata": {},
     "output_type": "display_data"
    }
   ],
   "source": [
    "for i in range(8):\n",
    "    display(tensor2pil(noisy_image_expanded[i] * 0.5 + 0.5))"
   ]
  },
  {
   "cell_type": "markdown",
   "id": "1ead52b1-128e-4483-9c18-7c97ecf7d689",
   "metadata": {},
   "source": [
    "#### UNet"
   ]
  },
  {
   "cell_type": "code",
   "execution_count": 19,
   "id": "cc77642d-ed96-450b-815e-d363673da88c",
   "metadata": {
    "tags": []
   },
   "outputs": [],
   "source": [
    "from diffusers import UNet2DModel\n",
    "\n",
    "model = UNet2DModel(\n",
    "    sample_size=image_size,\n",
    "    in_channels=3,\n",
    "    out_channels=3,\n",
    "    layers_per_block=2,\n",
    "    block_out_channels=(64, 128, 128, 256),\n",
    "    down_block_types=(\n",
    "        'DownBlock2D',\n",
    "        'DownBlock2D',\n",
    "        'AttnDownBlock2D',\n",
    "        'AttnDownBlock2D',\n",
    "    ),\n",
    "    up_block_types=(\n",
    "        'AttnUpBlock2D',\n",
    "        'AttnUpBlock2D',\n",
    "        'UpBlock2D',\n",
    "        'UpBlock2D',\n",
    "    )\n",
    ")\n",
    "\n",
    "model = model.to(device)"
   ]
  },
  {
   "cell_type": "code",
   "execution_count": 20,
   "id": "7fde0368-6706-4abd-a411-42a94f742982",
   "metadata": {},
   "outputs": [],
   "source": [
    "def init_model():\n",
    "    model = UNet2DModel(\n",
    "        sample_size=image_size,\n",
    "        in_channels=3,\n",
    "        out_channels=3,\n",
    "        layers_per_block=2,\n",
    "        block_out_channels=(64, 128, 128, 256),\n",
    "        down_block_types=(\n",
    "            'DownBlock2D',\n",
    "            'DownBlock2D',\n",
    "            'AttnDownBlock2D',\n",
    "            'AttnDownBlock2D',\n",
    "        ),\n",
    "        up_block_types=(\n",
    "            'AttnUpBlock2D',\n",
    "            'AttnUpBlock2D',\n",
    "            'UpBlock2D',\n",
    "            'UpBlock2D',\n",
    "        )\n",
    "    )\n",
    "\n",
    "    model = model.to(device)\n",
    "    \n",
    "    return model"
   ]
  },
  {
   "cell_type": "code",
   "execution_count": 21,
   "id": "fddadfce-389b-4492-8eeb-8f184b8b5875",
   "metadata": {},
   "outputs": [
    {
     "data": {
      "text/plain": [
       "torch.Size([64, 3, 64, 64])"
      ]
     },
     "execution_count": 21,
     "metadata": {},
     "output_type": "execute_result"
    }
   ],
   "source": [
    "import random\n",
    "\n",
    "timesteps = torch.tensor(random.sample(range(noise_scheduler.num_train_timesteps), k=batch_size))\n",
    "noise = torch.randn_like(batch)\n",
    "noisy_batch = noise_scheduler.add_noise(batch, noise, timesteps)\n",
    "\n",
    "model.eval()\n",
    "with torch.inference_mode():\n",
    "    model_preds = model(sample=noisy_batch.to(device), timestep=timesteps.to(device)).sample\n",
    "    \n",
    "model_preds.shape"
   ]
  },
  {
   "cell_type": "markdown",
   "id": "7b8851f3-bfc5-4212-a273-72b1ebfe103b",
   "metadata": {},
   "source": [
    "#### Training loop"
   ]
  },
  {
   "cell_type": "code",
   "execution_count": 34,
   "id": "fb392f2f-067e-44fd-b716-1f82a33b231e",
   "metadata": {},
   "outputs": [
    {
     "data": {
      "application/vnd.jupyter.widget-view+json": {
       "model_id": "cee269f638b94810ac77384bc2587a1b",
       "version_major": 2,
       "version_minor": 0
      },
      "text/plain": [
       "  0%|          | 0/30 [00:00<?, ?it/s]"
      ]
     },
     "metadata": {},
     "output_type": "display_data"
    },
    {
     "data": {
      "application/vnd.jupyter.widget-view+json": {
       "model_id": "",
       "version_major": 2,
       "version_minor": 0
      },
      "text/plain": [
       "  0%|          | 0/23 [00:00<?, ?it/s]"
      ]
     },
     "metadata": {},
     "output_type": "display_data"
    },
    {
     "data": {
      "application/vnd.jupyter.widget-view+json": {
       "model_id": "",
       "version_major": 2,
       "version_minor": 0
      },
      "text/plain": [
       "  0%|          | 0/23 [00:00<?, ?it/s]"
      ]
     },
     "metadata": {},
     "output_type": "display_data"
    },
    {
     "data": {
      "application/vnd.jupyter.widget-view+json": {
       "model_id": "",
       "version_major": 2,
       "version_minor": 0
      },
      "text/plain": [
       "  0%|          | 0/23 [00:00<?, ?it/s]"
      ]
     },
     "metadata": {},
     "output_type": "display_data"
    },
    {
     "data": {
      "application/vnd.jupyter.widget-view+json": {
       "model_id": "",
       "version_major": 2,
       "version_minor": 0
      },
      "text/plain": [
       "  0%|          | 0/23 [00:00<?, ?it/s]"
      ]
     },
     "metadata": {},
     "output_type": "display_data"
    },
    {
     "data": {
      "application/vnd.jupyter.widget-view+json": {
       "model_id": "",
       "version_major": 2,
       "version_minor": 0
      },
      "text/plain": [
       "  0%|          | 0/23 [00:00<?, ?it/s]"
      ]
     },
     "metadata": {},
     "output_type": "display_data"
    },
    {
     "name": "stdout",
     "output_type": "stream",
     "text": [
      "Epoch 5 | Loss: 0.0737423226237297\n"
     ]
    },
    {
     "data": {
      "application/vnd.jupyter.widget-view+json": {
       "model_id": "",
       "version_major": 2,
       "version_minor": 0
      },
      "text/plain": [
       "  0%|          | 0/23 [00:00<?, ?it/s]"
      ]
     },
     "metadata": {},
     "output_type": "display_data"
    },
    {
     "data": {
      "application/vnd.jupyter.widget-view+json": {
       "model_id": "",
       "version_major": 2,
       "version_minor": 0
      },
      "text/plain": [
       "  0%|          | 0/23 [00:00<?, ?it/s]"
      ]
     },
     "metadata": {},
     "output_type": "display_data"
    },
    {
     "data": {
      "application/vnd.jupyter.widget-view+json": {
       "model_id": "",
       "version_major": 2,
       "version_minor": 0
      },
      "text/plain": [
       "  0%|          | 0/23 [00:00<?, ?it/s]"
      ]
     },
     "metadata": {},
     "output_type": "display_data"
    },
    {
     "data": {
      "application/vnd.jupyter.widget-view+json": {
       "model_id": "",
       "version_major": 2,
       "version_minor": 0
      },
      "text/plain": [
       "  0%|          | 0/23 [00:00<?, ?it/s]"
      ]
     },
     "metadata": {},
     "output_type": "display_data"
    },
    {
     "data": {
      "application/vnd.jupyter.widget-view+json": {
       "model_id": "",
       "version_major": 2,
       "version_minor": 0
      },
      "text/plain": [
       "  0%|          | 0/23 [00:00<?, ?it/s]"
      ]
     },
     "metadata": {},
     "output_type": "display_data"
    },
    {
     "name": "stdout",
     "output_type": "stream",
     "text": [
      "Epoch 10 | Loss: 0.04628804099300633\n"
     ]
    },
    {
     "data": {
      "application/vnd.jupyter.widget-view+json": {
       "model_id": "",
       "version_major": 2,
       "version_minor": 0
      },
      "text/plain": [
       "  0%|          | 0/23 [00:00<?, ?it/s]"
      ]
     },
     "metadata": {},
     "output_type": "display_data"
    },
    {
     "data": {
      "application/vnd.jupyter.widget-view+json": {
       "model_id": "",
       "version_major": 2,
       "version_minor": 0
      },
      "text/plain": [
       "  0%|          | 0/23 [00:00<?, ?it/s]"
      ]
     },
     "metadata": {},
     "output_type": "display_data"
    },
    {
     "data": {
      "application/vnd.jupyter.widget-view+json": {
       "model_id": "",
       "version_major": 2,
       "version_minor": 0
      },
      "text/plain": [
       "  0%|          | 0/23 [00:00<?, ?it/s]"
      ]
     },
     "metadata": {},
     "output_type": "display_data"
    },
    {
     "data": {
      "application/vnd.jupyter.widget-view+json": {
       "model_id": "",
       "version_major": 2,
       "version_minor": 0
      },
      "text/plain": [
       "  0%|          | 0/23 [00:00<?, ?it/s]"
      ]
     },
     "metadata": {},
     "output_type": "display_data"
    },
    {
     "data": {
      "application/vnd.jupyter.widget-view+json": {
       "model_id": "",
       "version_major": 2,
       "version_minor": 0
      },
      "text/plain": [
       "  0%|          | 0/23 [00:00<?, ?it/s]"
      ]
     },
     "metadata": {},
     "output_type": "display_data"
    },
    {
     "name": "stdout",
     "output_type": "stream",
     "text": [
      "Epoch 15 | Loss: 0.035862601483645645\n"
     ]
    },
    {
     "data": {
      "application/vnd.jupyter.widget-view+json": {
       "model_id": "",
       "version_major": 2,
       "version_minor": 0
      },
      "text/plain": [
       "  0%|          | 0/23 [00:00<?, ?it/s]"
      ]
     },
     "metadata": {},
     "output_type": "display_data"
    },
    {
     "data": {
      "application/vnd.jupyter.widget-view+json": {
       "model_id": "",
       "version_major": 2,
       "version_minor": 0
      },
      "text/plain": [
       "  0%|          | 0/23 [00:00<?, ?it/s]"
      ]
     },
     "metadata": {},
     "output_type": "display_data"
    },
    {
     "data": {
      "application/vnd.jupyter.widget-view+json": {
       "model_id": "",
       "version_major": 2,
       "version_minor": 0
      },
      "text/plain": [
       "  0%|          | 0/23 [00:00<?, ?it/s]"
      ]
     },
     "metadata": {},
     "output_type": "display_data"
    },
    {
     "data": {
      "application/vnd.jupyter.widget-view+json": {
       "model_id": "",
       "version_major": 2,
       "version_minor": 0
      },
      "text/plain": [
       "  0%|          | 0/23 [00:00<?, ?it/s]"
      ]
     },
     "metadata": {},
     "output_type": "display_data"
    },
    {
     "data": {
      "application/vnd.jupyter.widget-view+json": {
       "model_id": "",
       "version_major": 2,
       "version_minor": 0
      },
      "text/plain": [
       "  0%|          | 0/23 [00:00<?, ?it/s]"
      ]
     },
     "metadata": {},
     "output_type": "display_data"
    },
    {
     "name": "stdout",
     "output_type": "stream",
     "text": [
      "Epoch 20 | Loss: 0.036559679423985275\n"
     ]
    },
    {
     "data": {
      "application/vnd.jupyter.widget-view+json": {
       "model_id": "",
       "version_major": 2,
       "version_minor": 0
      },
      "text/plain": [
       "  0%|          | 0/23 [00:00<?, ?it/s]"
      ]
     },
     "metadata": {},
     "output_type": "display_data"
    },
    {
     "data": {
      "application/vnd.jupyter.widget-view+json": {
       "model_id": "",
       "version_major": 2,
       "version_minor": 0
      },
      "text/plain": [
       "  0%|          | 0/23 [00:00<?, ?it/s]"
      ]
     },
     "metadata": {},
     "output_type": "display_data"
    },
    {
     "data": {
      "application/vnd.jupyter.widget-view+json": {
       "model_id": "",
       "version_major": 2,
       "version_minor": 0
      },
      "text/plain": [
       "  0%|          | 0/23 [00:00<?, ?it/s]"
      ]
     },
     "metadata": {},
     "output_type": "display_data"
    },
    {
     "data": {
      "application/vnd.jupyter.widget-view+json": {
       "model_id": "",
       "version_major": 2,
       "version_minor": 0
      },
      "text/plain": [
       "  0%|          | 0/23 [00:00<?, ?it/s]"
      ]
     },
     "metadata": {},
     "output_type": "display_data"
    },
    {
     "data": {
      "application/vnd.jupyter.widget-view+json": {
       "model_id": "",
       "version_major": 2,
       "version_minor": 0
      },
      "text/plain": [
       "  0%|          | 0/23 [00:00<?, ?it/s]"
      ]
     },
     "metadata": {},
     "output_type": "display_data"
    },
    {
     "name": "stdout",
     "output_type": "stream",
     "text": [
      "Epoch 25 | Loss: 0.03442447915997194\n"
     ]
    },
    {
     "data": {
      "application/vnd.jupyter.widget-view+json": {
       "model_id": "",
       "version_major": 2,
       "version_minor": 0
      },
      "text/plain": [
       "  0%|          | 0/23 [00:00<?, ?it/s]"
      ]
     },
     "metadata": {},
     "output_type": "display_data"
    },
    {
     "data": {
      "application/vnd.jupyter.widget-view+json": {
       "model_id": "",
       "version_major": 2,
       "version_minor": 0
      },
      "text/plain": [
       "  0%|          | 0/23 [00:00<?, ?it/s]"
      ]
     },
     "metadata": {},
     "output_type": "display_data"
    },
    {
     "data": {
      "application/vnd.jupyter.widget-view+json": {
       "model_id": "",
       "version_major": 2,
       "version_minor": 0
      },
      "text/plain": [
       "  0%|          | 0/23 [00:00<?, ?it/s]"
      ]
     },
     "metadata": {},
     "output_type": "display_data"
    },
    {
     "data": {
      "application/vnd.jupyter.widget-view+json": {
       "model_id": "",
       "version_major": 2,
       "version_minor": 0
      },
      "text/plain": [
       "  0%|          | 0/23 [00:00<?, ?it/s]"
      ]
     },
     "metadata": {},
     "output_type": "display_data"
    },
    {
     "data": {
      "application/vnd.jupyter.widget-view+json": {
       "model_id": "",
       "version_major": 2,
       "version_minor": 0
      },
      "text/plain": [
       "  0%|          | 0/23 [00:00<?, ?it/s]"
      ]
     },
     "metadata": {},
     "output_type": "display_data"
    },
    {
     "name": "stdout",
     "output_type": "stream",
     "text": [
      "Epoch 30 | Loss: 0.03318123017316279\n"
     ]
    }
   ],
   "source": [
    "model = init_model()\n",
    "noise_scheduler = DDPMScheduler(num_train_timesteps=1000, beta_schedule='squaredcos_cap_v2')\n",
    "optimizer = torch.optim.AdamW(params=model.parameters(), lr=4e-4)\n",
    "\n",
    "epochs = 30\n",
    "losses = []\n",
    "\n",
    "for epoch in tqdm(range(epochs)):\n",
    "    for i, batch in enumerate(tqdm(train_dataloader, leave=False)):\n",
    "        images = batch['images'].to(device)\n",
    "        noise = torch.randn_like(images).to(device)\n",
    "        timesteps = torch.tensor(random.sample(range(noise_scheduler.num_train_timesteps), k=images.shape[0])).to(device)\n",
    "        noisy_images = noise_scheduler.add_noise(images, noise, timesteps)\n",
    "        \n",
    "        preds = model(noisy_images, timesteps).sample\n",
    "        \n",
    "        loss = F.mse_loss(preds, noise)\n",
    "        optimizer.zero_grad()\n",
    "        loss.backward()\n",
    "        optimizer.step()\n",
    "        \n",
    "        losses.append(loss.detach().cpu().item())\n",
    "    \n",
    "    if (epoch+1) % 5 == 0:\n",
    "        epoch_loss = sum(losses[-len(train_dataloader):]) / len(train_dataloader)\n",
    "        print(f\"Epoch {epoch+1} | Loss: {epoch_loss}\")"
   ]
  },
  {
   "cell_type": "code",
   "execution_count": 35,
   "id": "fbd3b4ee-7594-49a4-9d73-217dd4b13274",
   "metadata": {},
   "outputs": [
    {
     "data": {
      "image/png": "[encoded data removed]",
      "text/plain": [
       "<Figure size 864x288 with 2 Axes>"
      ]
     },
     "metadata": {
      "needs_background": "light"
     },
     "output_type": "display_data"
    }
   ],
   "source": [
    "fig, axs = plt.subplots(1, 2, figsize=(12, 4))\n",
    "axs[0].plot(losses)\n",
    "axs[1].plot(np.log(losses))\n",
    "plt.show()"
   ]
  },
  {
   "cell_type": "markdown",
   "id": "8ae1e2af-003b-4840-84b3-6f72eb9e31cc",
   "metadata": {},
   "source": [
    "#### Inference"
   ]
  },
  {
   "cell_type": "code",
   "execution_count": null,
   "id": "13fe94a1-3e65-4fe3-a551-317196c60b78",
   "metadata": {},
   "outputs": [],
   "source": [
    "sample = torch.randn(4, 3, 64, 64)\n"
   ]
  }
 ],
 "metadata": {
  "kernelspec": {
   "display_name": "Python 3 (ipykernel)",
   "language": "python",
   "name": "python3"
  },
  "language_info": {
   "codemirror_mode": {
    "name": "ipython",
    "version": 3
   },
   "file_extension": ".py",
   "mimetype": "text/x-python",
   "name": "python",
   "nbconvert_exporter": "python",
   "pygments_lexer": "ipython3",
   "version": "3.7.13"
  }
 },
 "nbformat": 4,
 "nbformat_minor": 5
}
